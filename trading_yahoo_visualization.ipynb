{
 "cells": [
  {
   "cell_type": "markdown",
   "metadata": {},
   "source": [
    "# Visualization Of Live Trading Session"
   ]
  },
  {
   "cell_type": "markdown",
   "metadata": {},
   "source": [
    "### 1. Importing all the required modules"
   ]
  },
  {
   "cell_type": "code",
   "execution_count": 87,
   "metadata": {},
   "outputs": [
    {
     "name": "stderr",
     "output_type": "stream",
     "text": [
      "2020-05-22 12:44:42 DESKTOP-OCEF6E1 selenium.webdriver.remote.remote_connection[9272] DEBUG POST http://127.0.0.1:53549/session {\"capabilities\": {\"firstMatch\": [{}], \"alwaysMatch\": {\"browserName\": \"chrome\", \"platformName\": \"any\", \"goog:chromeOptions\": {\"excludeSwitches\": [\"enable-logging\"], \"extensions\": [], \"args\": [\"--no-sandbox\", \"--disable-dev-shm-usage\", \"--headless\"]}}}, \"desiredCapabilities\": {\"browserName\": \"chrome\", \"version\": \"\", \"platform\": \"ANY\", \"goog:chromeOptions\": {\"excludeSwitches\": [\"enable-logging\"], \"extensions\": [], \"args\": [\"--no-sandbox\", \"--disable-dev-shm-usage\", \"--headless\"]}}}\n",
      "2020-05-22 12:44:42 DESKTOP-OCEF6E1 urllib3.connectionpool[9272] DEBUG Starting new HTTP connection (1): 127.0.0.1:53549\n",
      "2020-05-22 12:44:44 DESKTOP-OCEF6E1 urllib3.connectionpool[9272] DEBUG http://127.0.0.1:53549 \"POST /session HTTP/1.1\" 200 722\n",
      "2020-05-22 12:44:44 DESKTOP-OCEF6E1 selenium.webdriver.remote.remote_connection[9272] DEBUG Finished Request\n"
     ]
    }
   ],
   "source": [
    "from docopt import docopt\n",
    "from trading_bot.ops import get_state\n",
    "from trading_bot.agent import Agent\n",
    "from trading_bot.methods import evaluate_model\n",
    "from trading_bot.utils import (\n",
    "    get_stock_data,\n",
    "    format_currency,\n",
    "    format_position,\n",
    "    show_eval_result,\n",
    "    switch_k_backend_device\n",
    ")\n",
    "import logging\n",
    "import coloredlogs\n",
    "import lxml.html as lh\n",
    "import time\n",
    "import urllib.request\n",
    "import datetime\n",
    "import pytz\n",
    "from selenium import webdriver\n",
    "from selenium.common.exceptions import StaleElementReferenceException\n",
    "tz = pytz.timezone('Asia/Kolkata')\n",
    "\n",
    "ignored_exceptions=(StaleElementReferenceException,)\n",
    "options = webdriver.ChromeOptions()\n",
    "options.add_argument('--no-sandbox')\n",
    "options.add_argument('--disable-dev-shm-usage')\n",
    "options.add_argument('--headless')\n",
    "options.add_experimental_option('excludeSwitches', ['enable-logging'])\n",
    "driver = webdriver.Chrome(executable_path=\"C:\\\\Program Files (x86)\\\\Google\\\\Chrome\\\\chromedriver.exe\" , options=options)\n",
    "\n"
   ]
  },
  {
   "cell_type": "markdown",
   "metadata": {},
   "source": [
    "### 2. Function to scrap real time value from website"
   ]
  },
  {
   "cell_type": "code",
   "execution_count": 88,
   "metadata": {},
   "outputs": [],
   "source": [
    "def Real(url,count):\n",
    "    if count == 0:\n",
    "        \n",
    "        driver.get(url)\n",
    "\n",
    "    else:\n",
    "        driver.refresh()\n",
    "        time.sleep(15)\n",
    "\n",
    "    infile = driver.page_source\n",
    "    doc = lh.fromstring(infile)\n",
    "    live = doc.xpath('/html/body/div[1]/div/div/div[1]/div/div[2]/div/div/div[4]/div/div/div/div[3]/div/div/span[1]')\n",
    "    live = float(live[0].text.replace(',',''))\n",
    "    return live "
   ]
  },
  {
   "cell_type": "markdown",
   "metadata": {},
   "source": [
    "### 3. Model Evaluation function"
   ]
  },
  {
   "cell_type": "code",
   "execution_count": 89,
   "metadata": {},
   "outputs": [],
   "source": [
    "def evaluate_model(agent, state, next_state, data, t, total_profit, history, reward, window_size, debug=False):\n",
    "  \n",
    "    print(t)\n",
    "        # select an action\n",
    "    action = agent.act(state, is_eval=True)\n",
    "\n",
    "        # BUY\n",
    "    if action == 1:\n",
    "        agent.inventory.append(data[t])\n",
    "\n",
    "        history.append([data[t], \"BUY\",datetime.datetime.now(tz).time()])\n",
    "        if debug:\n",
    "            logging.debug(\"Buy at: {}\".format(format_currency(data[t])))\n",
    "\n",
    "        # SELL\n",
    "    elif action == 2 and len(agent.inventory) > 0:\n",
    "        bought_price = agent.inventory.pop(0)\n",
    "        delta = data[t] - bought_price\n",
    "        reward = delta #max(delta, 0)\n",
    "        total_profit += delta\n",
    "\n",
    "        history.append([data[t], \"SELL\",datetime.datetime.now(tz).time()])\n",
    "        if debug:\n",
    "            logging.debug(\"Sell at: {} | Position: {}\".format(\n",
    "                    format_currency(data[t]), format_position(data[t] - bought_price)))\n",
    "        # HOLD\n",
    "    else:\n",
    "        history.append([data[t], \"HOLD\",datetime.datetime.now(tz).time()])\n",
    "\n",
    "#        done = (t == data_length - 1)\n",
    "    agent.memory.append((state, action, reward, next_state))\n",
    "\n",
    "    return total_profit"
   ]
  },
  {
   "cell_type": "markdown",
   "metadata": {},
   "source": [
    "### 4. The Main function to execute scraping and evaluation"
   ]
  },
  {
   "cell_type": "code",
   "execution_count": 90,
   "metadata": {},
   "outputs": [],
   "source": [
    "def main(args):\n",
    "    count = 0\n",
    "    total_profit = 0\n",
    "    t=0\n",
    "    history = []\n",
    "    reward = 0\n",
    "    ticker = args + '.NS'\n",
    "    price = []\n",
    "    window_size =10\n",
    "    time_now = datetime.datetime.now(tz).time()\n",
    "\n",
    "    #Total Iterations\n",
    "    total_count = 100\n",
    "    \n",
    "    while(count<total_count):\n",
    "        url = 'https://finance.yahoo.com/quote/{}?p={}&.tsrc=fin-srch'.format(ticker,ticker)\n",
    "        print(count)\n",
    "        live = Real(url,count)\n",
    "        count+=1        \n",
    "        price.append(live)\n",
    "        if count < window_size:\n",
    "           continue\n",
    "        model_name='model_debug_50'  \n",
    "        print(live)\n",
    "        initial_offset = price[1] - price[0]\n",
    "        state = get_state(price, 0, window_size + 1)\n",
    "        next_state = get_state(price, t + 1, window_size + 1)\n",
    "        agent = Agent(state_size=window_size, pretrained=True, model_name=model_name)\n",
    "        agent.inventory = []\n",
    "        profit = evaluate_model(agent,state,next_state, price, t, total_profit, history, reward, window_size=window_size)\n",
    "        show_eval_result(model_name, profit, initial_offset)\n",
    "        t+=1\n",
    "        state = next_state\n",
    "        \n",
    "    return history"
   ]
  },
  {
   "cell_type": "markdown",
   "metadata": {},
   "source": [
    "### 5. Running the live trading session"
   ]
  },
  {
   "cell_type": "code",
   "execution_count": 91,
   "metadata": {},
   "outputs": [
    {
     "name": "stderr",
     "output_type": "stream",
     "text": [
      "2020-05-22 12:45:08 DESKTOP-OCEF6E1 root[9272] DEBUG switching to TensorFlow for CPU\n"
     ]
    },
    {
     "name": "stdout",
     "output_type": "stream",
     "text": [
      "0\n"
     ]
    },
    {
     "name": "stderr",
     "output_type": "stream",
     "text": [
      "2020-05-22 12:45:08 DESKTOP-OCEF6E1 selenium.webdriver.remote.remote_connection[9272] DEBUG POST http://127.0.0.1:53549/session/ec1f55867f1557c357ff78c2590aad7c/url {\"url\": \"https://finance.yahoo.com/quote/RELIANCE.NS?p=RELIANCE.NS&.tsrc=fin-srch\"}\n",
      "2020-05-22 12:45:12 DESKTOP-OCEF6E1 urllib3.connectionpool[9272] DEBUG http://127.0.0.1:53549 \"POST /session/ec1f55867f1557c357ff78c2590aad7c/url HTTP/1.1\" 200 14\n",
      "2020-05-22 12:45:12 DESKTOP-OCEF6E1 selenium.webdriver.remote.remote_connection[9272] DEBUG Finished Request\n",
      "2020-05-22 12:45:12 DESKTOP-OCEF6E1 selenium.webdriver.remote.remote_connection[9272] DEBUG GET http://127.0.0.1:53549/session/ec1f55867f1557c357ff78c2590aad7c/source {}\n",
      "2020-05-22 12:45:12 DESKTOP-OCEF6E1 urllib3.connectionpool[9272] DEBUG http://127.0.0.1:53549 \"GET /session/ec1f55867f1557c357ff78c2590aad7c/source HTTP/1.1\" 200 847631\n",
      "2020-05-22 12:45:13 DESKTOP-OCEF6E1 selenium.webdriver.remote.remote_connection[9272] DEBUG Finished Request\n"
     ]
    },
    {
     "name": "stdout",
     "output_type": "stream",
     "text": [
      "1\n"
     ]
    },
    {
     "name": "stderr",
     "output_type": "stream",
     "text": [
      "2020-05-22 12:45:13 DESKTOP-OCEF6E1 selenium.webdriver.remote.remote_connection[9272] DEBUG POST http://127.0.0.1:53549/session/ec1f55867f1557c357ff78c2590aad7c/refresh {}\n",
      "2020-05-22 12:45:14 DESKTOP-OCEF6E1 urllib3.connectionpool[9272] DEBUG http://127.0.0.1:53549 \"POST /session/ec1f55867f1557c357ff78c2590aad7c/refresh HTTP/1.1\" 200 14\n",
      "2020-05-22 12:45:14 DESKTOP-OCEF6E1 selenium.webdriver.remote.remote_connection[9272] DEBUG Finished Request\n",
      "2020-05-22 12:45:29 DESKTOP-OCEF6E1 selenium.webdriver.remote.remote_connection[9272] DEBUG GET http://127.0.0.1:53549/session/ec1f55867f1557c357ff78c2590aad7c/source {}\n",
      "2020-05-22 12:45:29 DESKTOP-OCEF6E1 urllib3.connectionpool[9272] DEBUG http://127.0.0.1:53549 \"GET /session/ec1f55867f1557c357ff78c2590aad7c/source HTTP/1.1\" 200 887116\n",
      "2020-05-22 12:45:29 DESKTOP-OCEF6E1 selenium.webdriver.remote.remote_connection[9272] DEBUG Finished Request\n"
     ]
    },
    {
     "name": "stdout",
     "output_type": "stream",
     "text": [
      "2\n"
     ]
    },
    {
     "name": "stderr",
     "output_type": "stream",
     "text": [
      "2020-05-22 12:45:30 DESKTOP-OCEF6E1 selenium.webdriver.remote.remote_connection[9272] DEBUG POST http://127.0.0.1:53549/session/ec1f55867f1557c357ff78c2590aad7c/refresh {}\n",
      "2020-05-22 12:45:31 DESKTOP-OCEF6E1 urllib3.connectionpool[9272] DEBUG http://127.0.0.1:53549 \"POST /session/ec1f55867f1557c357ff78c2590aad7c/refresh HTTP/1.1\" 200 14\n",
      "2020-05-22 12:45:31 DESKTOP-OCEF6E1 selenium.webdriver.remote.remote_connection[9272] DEBUG Finished Request\n",
      "2020-05-22 12:45:46 DESKTOP-OCEF6E1 selenium.webdriver.remote.remote_connection[9272] DEBUG GET http://127.0.0.1:53549/session/ec1f55867f1557c357ff78c2590aad7c/source {}\n",
      "2020-05-22 12:45:46 DESKTOP-OCEF6E1 urllib3.connectionpool[9272] DEBUG http://127.0.0.1:53549 \"GET /session/ec1f55867f1557c357ff78c2590aad7c/source HTTP/1.1\" 200 888240\n",
      "2020-05-22 12:45:46 DESKTOP-OCEF6E1 selenium.webdriver.remote.remote_connection[9272] DEBUG Finished Request\n"
     ]
    },
    {
     "name": "stdout",
     "output_type": "stream",
     "text": [
      "3\n"
     ]
    },
    {
     "name": "stderr",
     "output_type": "stream",
     "text": [
      "2020-05-22 12:45:46 DESKTOP-OCEF6E1 selenium.webdriver.remote.remote_connection[9272] DEBUG POST http://127.0.0.1:53549/session/ec1f55867f1557c357ff78c2590aad7c/refresh {}\n",
      "2020-05-22 12:45:47 DESKTOP-OCEF6E1 urllib3.connectionpool[9272] DEBUG http://127.0.0.1:53549 \"POST /session/ec1f55867f1557c357ff78c2590aad7c/refresh HTTP/1.1\" 200 14\n",
      "2020-05-22 12:45:47 DESKTOP-OCEF6E1 selenium.webdriver.remote.remote_connection[9272] DEBUG Finished Request\n",
      "2020-05-22 12:46:02 DESKTOP-OCEF6E1 selenium.webdriver.remote.remote_connection[9272] DEBUG GET http://127.0.0.1:53549/session/ec1f55867f1557c357ff78c2590aad7c/source {}\n",
      "2020-05-22 12:46:02 DESKTOP-OCEF6E1 urllib3.connectionpool[9272] DEBUG http://127.0.0.1:53549 \"GET /session/ec1f55867f1557c357ff78c2590aad7c/source HTTP/1.1\" 200 887128\n",
      "2020-05-22 12:46:02 DESKTOP-OCEF6E1 selenium.webdriver.remote.remote_connection[9272] DEBUG Finished Request\n"
     ]
    },
    {
     "name": "stdout",
     "output_type": "stream",
     "text": [
      "4\n"
     ]
    },
    {
     "name": "stderr",
     "output_type": "stream",
     "text": [
      "2020-05-22 12:46:02 DESKTOP-OCEF6E1 selenium.webdriver.remote.remote_connection[9272] DEBUG POST http://127.0.0.1:53549/session/ec1f55867f1557c357ff78c2590aad7c/refresh {}\n",
      "2020-05-22 12:46:03 DESKTOP-OCEF6E1 urllib3.connectionpool[9272] DEBUG http://127.0.0.1:53549 \"POST /session/ec1f55867f1557c357ff78c2590aad7c/refresh HTTP/1.1\" 200 14\n",
      "2020-05-22 12:46:03 DESKTOP-OCEF6E1 selenium.webdriver.remote.remote_connection[9272] DEBUG Finished Request\n",
      "2020-05-22 12:46:19 DESKTOP-OCEF6E1 selenium.webdriver.remote.remote_connection[9272] DEBUG GET http://127.0.0.1:53549/session/ec1f55867f1557c357ff78c2590aad7c/source {}\n",
      "2020-05-22 12:46:19 DESKTOP-OCEF6E1 urllib3.connectionpool[9272] DEBUG http://127.0.0.1:53549 \"GET /session/ec1f55867f1557c357ff78c2590aad7c/source HTTP/1.1\" 200 888218\n",
      "2020-05-22 12:46:19 DESKTOP-OCEF6E1 selenium.webdriver.remote.remote_connection[9272] DEBUG Finished Request\n"
     ]
    },
    {
     "name": "stdout",
     "output_type": "stream",
     "text": [
      "5\n"
     ]
    },
    {
     "name": "stderr",
     "output_type": "stream",
     "text": [
      "2020-05-22 12:46:19 DESKTOP-OCEF6E1 selenium.webdriver.remote.remote_connection[9272] DEBUG POST http://127.0.0.1:53549/session/ec1f55867f1557c357ff78c2590aad7c/refresh {}\n",
      "2020-05-22 12:46:20 DESKTOP-OCEF6E1 urllib3.connectionpool[9272] DEBUG http://127.0.0.1:53549 \"POST /session/ec1f55867f1557c357ff78c2590aad7c/refresh HTTP/1.1\" 200 14\n",
      "2020-05-22 12:46:20 DESKTOP-OCEF6E1 selenium.webdriver.remote.remote_connection[9272] DEBUG Finished Request\n",
      "2020-05-22 12:46:35 DESKTOP-OCEF6E1 selenium.webdriver.remote.remote_connection[9272] DEBUG GET http://127.0.0.1:53549/session/ec1f55867f1557c357ff78c2590aad7c/source {}\n",
      "2020-05-22 12:46:35 DESKTOP-OCEF6E1 urllib3.connectionpool[9272] DEBUG http://127.0.0.1:53549 \"GET /session/ec1f55867f1557c357ff78c2590aad7c/source HTTP/1.1\" 200 887430\n",
      "2020-05-22 12:46:35 DESKTOP-OCEF6E1 selenium.webdriver.remote.remote_connection[9272] DEBUG Finished Request\n"
     ]
    },
    {
     "name": "stdout",
     "output_type": "stream",
     "text": [
      "6\n"
     ]
    },
    {
     "name": "stderr",
     "output_type": "stream",
     "text": [
      "2020-05-22 12:46:35 DESKTOP-OCEF6E1 selenium.webdriver.remote.remote_connection[9272] DEBUG POST http://127.0.0.1:53549/session/ec1f55867f1557c357ff78c2590aad7c/refresh {}\n",
      "2020-05-22 12:46:37 DESKTOP-OCEF6E1 urllib3.connectionpool[9272] DEBUG http://127.0.0.1:53549 \"POST /session/ec1f55867f1557c357ff78c2590aad7c/refresh HTTP/1.1\" 200 14\n",
      "2020-05-22 12:46:37 DESKTOP-OCEF6E1 selenium.webdriver.remote.remote_connection[9272] DEBUG Finished Request\n",
      "2020-05-22 12:46:52 DESKTOP-OCEF6E1 selenium.webdriver.remote.remote_connection[9272] DEBUG GET http://127.0.0.1:53549/session/ec1f55867f1557c357ff78c2590aad7c/source {}\n",
      "2020-05-22 12:46:52 DESKTOP-OCEF6E1 urllib3.connectionpool[9272] DEBUG http://127.0.0.1:53549 \"GET /session/ec1f55867f1557c357ff78c2590aad7c/source HTTP/1.1\" 200 887355\n",
      "2020-05-22 12:46:52 DESKTOP-OCEF6E1 selenium.webdriver.remote.remote_connection[9272] DEBUG Finished Request\n"
     ]
    },
    {
     "name": "stdout",
     "output_type": "stream",
     "text": [
      "7\n"
     ]
    },
    {
     "name": "stderr",
     "output_type": "stream",
     "text": [
      "2020-05-22 12:46:52 DESKTOP-OCEF6E1 selenium.webdriver.remote.remote_connection[9272] DEBUG POST http://127.0.0.1:53549/session/ec1f55867f1557c357ff78c2590aad7c/refresh {}\n",
      "2020-05-22 12:46:53 DESKTOP-OCEF6E1 urllib3.connectionpool[9272] DEBUG http://127.0.0.1:53549 \"POST /session/ec1f55867f1557c357ff78c2590aad7c/refresh HTTP/1.1\" 200 14\n",
      "2020-05-22 12:46:53 DESKTOP-OCEF6E1 selenium.webdriver.remote.remote_connection[9272] DEBUG Finished Request\n",
      "2020-05-22 12:47:08 DESKTOP-OCEF6E1 selenium.webdriver.remote.remote_connection[9272] DEBUG GET http://127.0.0.1:53549/session/ec1f55867f1557c357ff78c2590aad7c/source {}\n",
      "2020-05-22 12:47:08 DESKTOP-OCEF6E1 urllib3.connectionpool[9272] DEBUG http://127.0.0.1:53549 \"GET /session/ec1f55867f1557c357ff78c2590aad7c/source HTTP/1.1\" 200 887130\n",
      "2020-05-22 12:47:08 DESKTOP-OCEF6E1 selenium.webdriver.remote.remote_connection[9272] DEBUG Finished Request\n"
     ]
    },
    {
     "name": "stdout",
     "output_type": "stream",
     "text": [
      "8\n"
     ]
    },
    {
     "name": "stderr",
     "output_type": "stream",
     "text": [
      "2020-05-22 12:47:09 DESKTOP-OCEF6E1 selenium.webdriver.remote.remote_connection[9272] DEBUG POST http://127.0.0.1:53549/session/ec1f55867f1557c357ff78c2590aad7c/refresh {}\n",
      "2020-05-22 12:47:10 DESKTOP-OCEF6E1 urllib3.connectionpool[9272] DEBUG http://127.0.0.1:53549 \"POST /session/ec1f55867f1557c357ff78c2590aad7c/refresh HTTP/1.1\" 200 14\n",
      "2020-05-22 12:47:10 DESKTOP-OCEF6E1 selenium.webdriver.remote.remote_connection[9272] DEBUG Finished Request\n",
      "2020-05-22 12:47:25 DESKTOP-OCEF6E1 selenium.webdriver.remote.remote_connection[9272] DEBUG GET http://127.0.0.1:53549/session/ec1f55867f1557c357ff78c2590aad7c/source {}\n",
      "2020-05-22 12:47:25 DESKTOP-OCEF6E1 urllib3.connectionpool[9272] DEBUG http://127.0.0.1:53549 \"GET /session/ec1f55867f1557c357ff78c2590aad7c/source HTTP/1.1\" 200 887269\n",
      "2020-05-22 12:47:25 DESKTOP-OCEF6E1 selenium.webdriver.remote.remote_connection[9272] DEBUG Finished Request\n"
     ]
    },
    {
     "name": "stdout",
     "output_type": "stream",
     "text": [
      "9\n"
     ]
    },
    {
     "name": "stderr",
     "output_type": "stream",
     "text": [
      "2020-05-22 12:47:25 DESKTOP-OCEF6E1 selenium.webdriver.remote.remote_connection[9272] DEBUG POST http://127.0.0.1:53549/session/ec1f55867f1557c357ff78c2590aad7c/refresh {}\n",
      "2020-05-22 12:47:26 DESKTOP-OCEF6E1 urllib3.connectionpool[9272] DEBUG http://127.0.0.1:53549 \"POST /session/ec1f55867f1557c357ff78c2590aad7c/refresh HTTP/1.1\" 200 14\n",
      "2020-05-22 12:47:26 DESKTOP-OCEF6E1 selenium.webdriver.remote.remote_connection[9272] DEBUG Finished Request\n",
      "2020-05-22 12:47:41 DESKTOP-OCEF6E1 selenium.webdriver.remote.remote_connection[9272] DEBUG GET http://127.0.0.1:53549/session/ec1f55867f1557c357ff78c2590aad7c/source {}\n",
      "2020-05-22 12:47:41 DESKTOP-OCEF6E1 urllib3.connectionpool[9272] DEBUG http://127.0.0.1:53549 \"GET /session/ec1f55867f1557c357ff78c2590aad7c/source HTTP/1.1\" 200 887262\n",
      "2020-05-22 12:47:41 DESKTOP-OCEF6E1 selenium.webdriver.remote.remote_connection[9272] DEBUG Finished Request\n"
     ]
    },
    {
     "name": "stdout",
     "output_type": "stream",
     "text": [
      "1432.65\n",
      "0\n"
     ]
    },
    {
     "name": "stderr",
     "output_type": "stream",
     "text": [
      "2020-05-22 12:47:42 DESKTOP-OCEF6E1 root[9272] INFO model_debug_50: USELESS\n",
      "\n"
     ]
    },
    {
     "name": "stdout",
     "output_type": "stream",
     "text": [
      "10\n"
     ]
    },
    {
     "name": "stderr",
     "output_type": "stream",
     "text": [
      "2020-05-22 12:47:42 DESKTOP-OCEF6E1 selenium.webdriver.remote.remote_connection[9272] DEBUG POST http://127.0.0.1:53549/session/ec1f55867f1557c357ff78c2590aad7c/refresh {}\n",
      "2020-05-22 12:47:43 DESKTOP-OCEF6E1 urllib3.connectionpool[9272] DEBUG http://127.0.0.1:53549 \"POST /session/ec1f55867f1557c357ff78c2590aad7c/refresh HTTP/1.1\" 200 14\n",
      "2020-05-22 12:47:43 DESKTOP-OCEF6E1 selenium.webdriver.remote.remote_connection[9272] DEBUG Finished Request\n",
      "2020-05-22 12:47:59 DESKTOP-OCEF6E1 selenium.webdriver.remote.remote_connection[9272] DEBUG GET http://127.0.0.1:53549/session/ec1f55867f1557c357ff78c2590aad7c/source {}\n",
      "2020-05-22 12:47:59 DESKTOP-OCEF6E1 urllib3.connectionpool[9272] DEBUG http://127.0.0.1:53549 \"GET /session/ec1f55867f1557c357ff78c2590aad7c/source HTTP/1.1\" 200 887129\n",
      "2020-05-22 12:47:59 DESKTOP-OCEF6E1 selenium.webdriver.remote.remote_connection[9272] DEBUG Finished Request\n"
     ]
    },
    {
     "name": "stdout",
     "output_type": "stream",
     "text": [
      "1433.5\n",
      "1\n"
     ]
    },
    {
     "name": "stderr",
     "output_type": "stream",
     "text": [
      "2020-05-22 12:48:00 DESKTOP-OCEF6E1 root[9272] INFO model_debug_50: USELESS\n",
      "\n"
     ]
    },
    {
     "name": "stdout",
     "output_type": "stream",
     "text": [
      "11\n"
     ]
    },
    {
     "name": "stderr",
     "output_type": "stream",
     "text": [
      "2020-05-22 12:48:00 DESKTOP-OCEF6E1 selenium.webdriver.remote.remote_connection[9272] DEBUG POST http://127.0.0.1:53549/session/ec1f55867f1557c357ff78c2590aad7c/refresh {}\n",
      "2020-05-22 12:48:01 DESKTOP-OCEF6E1 urllib3.connectionpool[9272] DEBUG http://127.0.0.1:53549 \"POST /session/ec1f55867f1557c357ff78c2590aad7c/refresh HTTP/1.1\" 200 14\n",
      "2020-05-22 12:48:01 DESKTOP-OCEF6E1 selenium.webdriver.remote.remote_connection[9272] DEBUG Finished Request\n",
      "2020-05-22 12:48:16 DESKTOP-OCEF6E1 selenium.webdriver.remote.remote_connection[9272] DEBUG GET http://127.0.0.1:53549/session/ec1f55867f1557c357ff78c2590aad7c/source {}\n",
      "2020-05-22 12:48:16 DESKTOP-OCEF6E1 urllib3.connectionpool[9272] DEBUG http://127.0.0.1:53549 \"GET /session/ec1f55867f1557c357ff78c2590aad7c/source HTTP/1.1\" 200 888209\n",
      "2020-05-22 12:48:16 DESKTOP-OCEF6E1 selenium.webdriver.remote.remote_connection[9272] DEBUG Finished Request\n"
     ]
    },
    {
     "name": "stdout",
     "output_type": "stream",
     "text": [
      "1434.4\n",
      "2\n"
     ]
    },
    {
     "name": "stderr",
     "output_type": "stream",
     "text": [
      "2020-05-22 12:48:17 DESKTOP-OCEF6E1 root[9272] INFO model_debug_50: USELESS\n",
      "\n"
     ]
    },
    {
     "name": "stdout",
     "output_type": "stream",
     "text": [
      "12\n"
     ]
    },
    {
     "name": "stderr",
     "output_type": "stream",
     "text": [
      "2020-05-22 12:48:17 DESKTOP-OCEF6E1 selenium.webdriver.remote.remote_connection[9272] DEBUG POST http://127.0.0.1:53549/session/ec1f55867f1557c357ff78c2590aad7c/refresh {}\n",
      "2020-05-22 12:48:18 DESKTOP-OCEF6E1 urllib3.connectionpool[9272] DEBUG http://127.0.0.1:53549 \"POST /session/ec1f55867f1557c357ff78c2590aad7c/refresh HTTP/1.1\" 200 14\n",
      "2020-05-22 12:48:18 DESKTOP-OCEF6E1 selenium.webdriver.remote.remote_connection[9272] DEBUG Finished Request\n",
      "2020-05-22 12:48:33 DESKTOP-OCEF6E1 selenium.webdriver.remote.remote_connection[9272] DEBUG GET http://127.0.0.1:53549/session/ec1f55867f1557c357ff78c2590aad7c/source {}\n",
      "2020-05-22 12:48:33 DESKTOP-OCEF6E1 urllib3.connectionpool[9272] DEBUG http://127.0.0.1:53549 \"GET /session/ec1f55867f1557c357ff78c2590aad7c/source HTTP/1.1\" 200 887413\n",
      "2020-05-22 12:48:33 DESKTOP-OCEF6E1 selenium.webdriver.remote.remote_connection[9272] DEBUG Finished Request\n"
     ]
    },
    {
     "name": "stdout",
     "output_type": "stream",
     "text": [
      "1434.45\n",
      "3\n"
     ]
    },
    {
     "name": "stderr",
     "output_type": "stream",
     "text": [
      "2020-05-22 12:48:34 DESKTOP-OCEF6E1 root[9272] INFO model_debug_50: USELESS\n",
      "\n"
     ]
    },
    {
     "name": "stdout",
     "output_type": "stream",
     "text": [
      "13\n"
     ]
    },
    {
     "name": "stderr",
     "output_type": "stream",
     "text": [
      "2020-05-22 12:48:34 DESKTOP-OCEF6E1 selenium.webdriver.remote.remote_connection[9272] DEBUG POST http://127.0.0.1:53549/session/ec1f55867f1557c357ff78c2590aad7c/refresh {}\n",
      "2020-05-22 12:48:35 DESKTOP-OCEF6E1 urllib3.connectionpool[9272] DEBUG http://127.0.0.1:53549 \"POST /session/ec1f55867f1557c357ff78c2590aad7c/refresh HTTP/1.1\" 200 14\n",
      "2020-05-22 12:48:35 DESKTOP-OCEF6E1 selenium.webdriver.remote.remote_connection[9272] DEBUG Finished Request\n",
      "2020-05-22 12:48:50 DESKTOP-OCEF6E1 selenium.webdriver.remote.remote_connection[9272] DEBUG GET http://127.0.0.1:53549/session/ec1f55867f1557c357ff78c2590aad7c/source {}\n",
      "2020-05-22 12:48:50 DESKTOP-OCEF6E1 urllib3.connectionpool[9272] DEBUG http://127.0.0.1:53549 \"GET /session/ec1f55867f1557c357ff78c2590aad7c/source HTTP/1.1\" 200 886963\n",
      "2020-05-22 12:48:51 DESKTOP-OCEF6E1 selenium.webdriver.remote.remote_connection[9272] DEBUG Finished Request\n"
     ]
    },
    {
     "name": "stdout",
     "output_type": "stream",
     "text": [
      "1433.8\n",
      "4\n"
     ]
    },
    {
     "name": "stderr",
     "output_type": "stream",
     "text": [
      "2020-05-22 12:48:51 DESKTOP-OCEF6E1 root[9272] INFO model_debug_50: USELESS\n",
      "\n"
     ]
    },
    {
     "name": "stdout",
     "output_type": "stream",
     "text": [
      "14\n"
     ]
    },
    {
     "name": "stderr",
     "output_type": "stream",
     "text": [
      "2020-05-22 12:48:51 DESKTOP-OCEF6E1 selenium.webdriver.remote.remote_connection[9272] DEBUG POST http://127.0.0.1:53549/session/ec1f55867f1557c357ff78c2590aad7c/refresh {}\n",
      "2020-05-22 12:48:53 DESKTOP-OCEF6E1 urllib3.connectionpool[9272] DEBUG http://127.0.0.1:53549 \"POST /session/ec1f55867f1557c357ff78c2590aad7c/refresh HTTP/1.1\" 200 14\n",
      "2020-05-22 12:48:53 DESKTOP-OCEF6E1 selenium.webdriver.remote.remote_connection[9272] DEBUG Finished Request\n",
      "2020-05-22 12:49:08 DESKTOP-OCEF6E1 selenium.webdriver.remote.remote_connection[9272] DEBUG GET http://127.0.0.1:53549/session/ec1f55867f1557c357ff78c2590aad7c/source {}\n",
      "2020-05-22 12:49:08 DESKTOP-OCEF6E1 urllib3.connectionpool[9272] DEBUG http://127.0.0.1:53549 \"GET /session/ec1f55867f1557c357ff78c2590aad7c/source HTTP/1.1\" 200 886994\n",
      "2020-05-22 12:49:08 DESKTOP-OCEF6E1 selenium.webdriver.remote.remote_connection[9272] DEBUG Finished Request\n"
     ]
    },
    {
     "name": "stdout",
     "output_type": "stream",
     "text": [
      "1433.25\n",
      "5\n"
     ]
    },
    {
     "name": "stderr",
     "output_type": "stream",
     "text": [
      "2020-05-22 12:49:09 DESKTOP-OCEF6E1 root[9272] INFO model_debug_50: USELESS\n",
      "\n"
     ]
    },
    {
     "name": "stdout",
     "output_type": "stream",
     "text": [
      "15\n"
     ]
    },
    {
     "name": "stderr",
     "output_type": "stream",
     "text": [
      "2020-05-22 12:49:09 DESKTOP-OCEF6E1 selenium.webdriver.remote.remote_connection[9272] DEBUG POST http://127.0.0.1:53549/session/ec1f55867f1557c357ff78c2590aad7c/refresh {}\n",
      "2020-05-22 12:49:10 DESKTOP-OCEF6E1 urllib3.connectionpool[9272] DEBUG http://127.0.0.1:53549 \"POST /session/ec1f55867f1557c357ff78c2590aad7c/refresh HTTP/1.1\" 200 14\n",
      "2020-05-22 12:49:10 DESKTOP-OCEF6E1 selenium.webdriver.remote.remote_connection[9272] DEBUG Finished Request\n",
      "2020-05-22 12:49:25 DESKTOP-OCEF6E1 selenium.webdriver.remote.remote_connection[9272] DEBUG GET http://127.0.0.1:53549/session/ec1f55867f1557c357ff78c2590aad7c/source {}\n",
      "2020-05-22 12:49:26 DESKTOP-OCEF6E1 urllib3.connectionpool[9272] DEBUG http://127.0.0.1:53549 \"GET /session/ec1f55867f1557c357ff78c2590aad7c/source HTTP/1.1\" 200 886954\n",
      "2020-05-22 12:49:26 DESKTOP-OCEF6E1 selenium.webdriver.remote.remote_connection[9272] DEBUG Finished Request\n"
     ]
    },
    {
     "name": "stdout",
     "output_type": "stream",
     "text": [
      "1434.4\n",
      "6\n"
     ]
    },
    {
     "name": "stderr",
     "output_type": "stream",
     "text": [
      "2020-05-22 12:49:27 DESKTOP-OCEF6E1 root[9272] INFO model_debug_50: USELESS\n",
      "\n"
     ]
    },
    {
     "name": "stdout",
     "output_type": "stream",
     "text": [
      "16\n"
     ]
    },
    {
     "name": "stderr",
     "output_type": "stream",
     "text": [
      "2020-05-22 12:49:27 DESKTOP-OCEF6E1 selenium.webdriver.remote.remote_connection[9272] DEBUG POST http://127.0.0.1:53549/session/ec1f55867f1557c357ff78c2590aad7c/refresh {}\n",
      "2020-05-22 12:49:27 DESKTOP-OCEF6E1 urllib3.connectionpool[9272] DEBUG http://127.0.0.1:53549 \"POST /session/ec1f55867f1557c357ff78c2590aad7c/refresh HTTP/1.1\" 200 14\n",
      "2020-05-22 12:49:27 DESKTOP-OCEF6E1 selenium.webdriver.remote.remote_connection[9272] DEBUG Finished Request\n",
      "2020-05-22 12:49:43 DESKTOP-OCEF6E1 selenium.webdriver.remote.remote_connection[9272] DEBUG GET http://127.0.0.1:53549/session/ec1f55867f1557c357ff78c2590aad7c/source {}\n",
      "2020-05-22 12:49:43 DESKTOP-OCEF6E1 urllib3.connectionpool[9272] DEBUG http://127.0.0.1:53549 \"GET /session/ec1f55867f1557c357ff78c2590aad7c/source HTTP/1.1\" 200 886971\n",
      "2020-05-22 12:49:43 DESKTOP-OCEF6E1 selenium.webdriver.remote.remote_connection[9272] DEBUG Finished Request\n"
     ]
    },
    {
     "name": "stdout",
     "output_type": "stream",
     "text": [
      "1433.45\n",
      "7\n"
     ]
    },
    {
     "name": "stderr",
     "output_type": "stream",
     "text": [
      "2020-05-22 12:49:43 DESKTOP-OCEF6E1 root[9272] INFO model_debug_50: USELESS\n",
      "\n"
     ]
    },
    {
     "name": "stdout",
     "output_type": "stream",
     "text": [
      "17\n"
     ]
    },
    {
     "name": "stderr",
     "output_type": "stream",
     "text": [
      "2020-05-22 12:49:44 DESKTOP-OCEF6E1 selenium.webdriver.remote.remote_connection[9272] DEBUG POST http://127.0.0.1:53549/session/ec1f55867f1557c357ff78c2590aad7c/refresh {}\n",
      "2020-05-22 12:49:45 DESKTOP-OCEF6E1 urllib3.connectionpool[9272] DEBUG http://127.0.0.1:53549 \"POST /session/ec1f55867f1557c357ff78c2590aad7c/refresh HTTP/1.1\" 200 14\n",
      "2020-05-22 12:49:45 DESKTOP-OCEF6E1 selenium.webdriver.remote.remote_connection[9272] DEBUG Finished Request\n",
      "2020-05-22 12:50:00 DESKTOP-OCEF6E1 selenium.webdriver.remote.remote_connection[9272] DEBUG GET http://127.0.0.1:53549/session/ec1f55867f1557c357ff78c2590aad7c/source {}\n",
      "2020-05-22 12:50:00 DESKTOP-OCEF6E1 urllib3.connectionpool[9272] DEBUG http://127.0.0.1:53549 \"GET /session/ec1f55867f1557c357ff78c2590aad7c/source HTTP/1.1\" 200 888070\n",
      "2020-05-22 12:50:00 DESKTOP-OCEF6E1 selenium.webdriver.remote.remote_connection[9272] DEBUG Finished Request\n"
     ]
    },
    {
     "name": "stdout",
     "output_type": "stream",
     "text": [
      "1433.5\n",
      "8\n"
     ]
    },
    {
     "name": "stderr",
     "output_type": "stream",
     "text": [
      "2020-05-22 12:50:01 DESKTOP-OCEF6E1 root[9272] INFO model_debug_50: USELESS\n",
      "\n"
     ]
    },
    {
     "name": "stdout",
     "output_type": "stream",
     "text": [
      "18\n"
     ]
    },
    {
     "name": "stderr",
     "output_type": "stream",
     "text": [
      "2020-05-22 12:50:01 DESKTOP-OCEF6E1 selenium.webdriver.remote.remote_connection[9272] DEBUG POST http://127.0.0.1:53549/session/ec1f55867f1557c357ff78c2590aad7c/refresh {}\n",
      "2020-05-22 12:50:03 DESKTOP-OCEF6E1 urllib3.connectionpool[9272] DEBUG http://127.0.0.1:53549 \"POST /session/ec1f55867f1557c357ff78c2590aad7c/refresh HTTP/1.1\" 200 14\n",
      "2020-05-22 12:50:03 DESKTOP-OCEF6E1 selenium.webdriver.remote.remote_connection[9272] DEBUG Finished Request\n",
      "2020-05-22 12:50:18 DESKTOP-OCEF6E1 selenium.webdriver.remote.remote_connection[9272] DEBUG GET http://127.0.0.1:53549/session/ec1f55867f1557c357ff78c2590aad7c/source {}\n",
      "2020-05-22 12:50:18 DESKTOP-OCEF6E1 urllib3.connectionpool[9272] DEBUG http://127.0.0.1:53549 \"GET /session/ec1f55867f1557c357ff78c2590aad7c/source HTTP/1.1\" 200 888316\n",
      "2020-05-22 12:50:18 DESKTOP-OCEF6E1 selenium.webdriver.remote.remote_connection[9272] DEBUG Finished Request\n"
     ]
    },
    {
     "name": "stdout",
     "output_type": "stream",
     "text": [
      "1434.25\n",
      "9\n"
     ]
    },
    {
     "name": "stderr",
     "output_type": "stream",
     "text": [
      "2020-05-22 12:50:19 DESKTOP-OCEF6E1 root[9272] INFO model_debug_50: USELESS\n",
      "\n"
     ]
    },
    {
     "name": "stdout",
     "output_type": "stream",
     "text": [
      "19\n"
     ]
    },
    {
     "name": "stderr",
     "output_type": "stream",
     "text": [
      "2020-05-22 12:50:19 DESKTOP-OCEF6E1 selenium.webdriver.remote.remote_connection[9272] DEBUG POST http://127.0.0.1:53549/session/ec1f55867f1557c357ff78c2590aad7c/refresh {}\n",
      "2020-05-22 12:50:20 DESKTOP-OCEF6E1 urllib3.connectionpool[9272] DEBUG http://127.0.0.1:53549 \"POST /session/ec1f55867f1557c357ff78c2590aad7c/refresh HTTP/1.1\" 200 14\n",
      "2020-05-22 12:50:20 DESKTOP-OCEF6E1 selenium.webdriver.remote.remote_connection[9272] DEBUG Finished Request\n",
      "2020-05-22 12:50:35 DESKTOP-OCEF6E1 selenium.webdriver.remote.remote_connection[9272] DEBUG GET http://127.0.0.1:53549/session/ec1f55867f1557c357ff78c2590aad7c/source {}\n",
      "2020-05-22 12:50:35 DESKTOP-OCEF6E1 urllib3.connectionpool[9272] DEBUG http://127.0.0.1:53549 \"GET /session/ec1f55867f1557c357ff78c2590aad7c/source HTTP/1.1\" 200 888077\n",
      "2020-05-22 12:50:35 DESKTOP-OCEF6E1 selenium.webdriver.remote.remote_connection[9272] DEBUG Finished Request\n"
     ]
    },
    {
     "name": "stdout",
     "output_type": "stream",
     "text": [
      "1434.25\n",
      "10\n"
     ]
    },
    {
     "name": "stderr",
     "output_type": "stream",
     "text": [
      "2020-05-22 12:50:36 DESKTOP-OCEF6E1 root[9272] INFO model_debug_50: USELESS\n",
      "\n"
     ]
    },
    {
     "name": "stdout",
     "output_type": "stream",
     "text": [
      "20\n"
     ]
    },
    {
     "name": "stderr",
     "output_type": "stream",
     "text": [
      "2020-05-22 12:50:36 DESKTOP-OCEF6E1 selenium.webdriver.remote.remote_connection[9272] DEBUG POST http://127.0.0.1:53549/session/ec1f55867f1557c357ff78c2590aad7c/refresh {}\n",
      "2020-05-22 12:50:38 DESKTOP-OCEF6E1 urllib3.connectionpool[9272] DEBUG http://127.0.0.1:53549 \"POST /session/ec1f55867f1557c357ff78c2590aad7c/refresh HTTP/1.1\" 200 14\n",
      "2020-05-22 12:50:38 DESKTOP-OCEF6E1 selenium.webdriver.remote.remote_connection[9272] DEBUG Finished Request\n",
      "2020-05-22 12:50:53 DESKTOP-OCEF6E1 selenium.webdriver.remote.remote_connection[9272] DEBUG GET http://127.0.0.1:53549/session/ec1f55867f1557c357ff78c2590aad7c/source {}\n",
      "2020-05-22 12:50:53 DESKTOP-OCEF6E1 urllib3.connectionpool[9272] DEBUG http://127.0.0.1:53549 \"GET /session/ec1f55867f1557c357ff78c2590aad7c/source HTTP/1.1\" 200 886994\n",
      "2020-05-22 12:50:53 DESKTOP-OCEF6E1 selenium.webdriver.remote.remote_connection[9272] DEBUG Finished Request\n"
     ]
    },
    {
     "name": "stdout",
     "output_type": "stream",
     "text": [
      "1434.7\n",
      "11\n"
     ]
    },
    {
     "name": "stderr",
     "output_type": "stream",
     "text": [
      "2020-05-22 12:50:54 DESKTOP-OCEF6E1 root[9272] INFO model_debug_50: USELESS\n",
      "\n"
     ]
    },
    {
     "name": "stdout",
     "output_type": "stream",
     "text": [
      "21\n"
     ]
    },
    {
     "name": "stderr",
     "output_type": "stream",
     "text": [
      "2020-05-22 12:50:54 DESKTOP-OCEF6E1 selenium.webdriver.remote.remote_connection[9272] DEBUG POST http://127.0.0.1:53549/session/ec1f55867f1557c357ff78c2590aad7c/refresh {}\n",
      "2020-05-22 12:50:55 DESKTOP-OCEF6E1 urllib3.connectionpool[9272] DEBUG http://127.0.0.1:53549 \"POST /session/ec1f55867f1557c357ff78c2590aad7c/refresh HTTP/1.1\" 200 14\n",
      "2020-05-22 12:50:55 DESKTOP-OCEF6E1 selenium.webdriver.remote.remote_connection[9272] DEBUG Finished Request\n",
      "2020-05-22 12:51:10 DESKTOP-OCEF6E1 selenium.webdriver.remote.remote_connection[9272] DEBUG GET http://127.0.0.1:53549/session/ec1f55867f1557c357ff78c2590aad7c/source {}\n",
      "2020-05-22 12:51:10 DESKTOP-OCEF6E1 urllib3.connectionpool[9272] DEBUG http://127.0.0.1:53549 \"GET /session/ec1f55867f1557c357ff78c2590aad7c/source HTTP/1.1\" 200 887987\n",
      "2020-05-22 12:51:10 DESKTOP-OCEF6E1 selenium.webdriver.remote.remote_connection[9272] DEBUG Finished Request\n"
     ]
    },
    {
     "name": "stdout",
     "output_type": "stream",
     "text": [
      "1434.4\n",
      "12\n"
     ]
    },
    {
     "name": "stderr",
     "output_type": "stream",
     "text": [
      "2020-05-22 12:51:11 DESKTOP-OCEF6E1 root[9272] INFO model_debug_50: USELESS\n",
      "\n"
     ]
    },
    {
     "name": "stdout",
     "output_type": "stream",
     "text": [
      "22\n"
     ]
    },
    {
     "name": "stderr",
     "output_type": "stream",
     "text": [
      "2020-05-22 12:51:11 DESKTOP-OCEF6E1 selenium.webdriver.remote.remote_connection[9272] DEBUG POST http://127.0.0.1:53549/session/ec1f55867f1557c357ff78c2590aad7c/refresh {}\n",
      "2020-05-22 12:51:12 DESKTOP-OCEF6E1 urllib3.connectionpool[9272] DEBUG http://127.0.0.1:53549 \"POST /session/ec1f55867f1557c357ff78c2590aad7c/refresh HTTP/1.1\" 200 14\n",
      "2020-05-22 12:51:12 DESKTOP-OCEF6E1 selenium.webdriver.remote.remote_connection[9272] DEBUG Finished Request\n",
      "2020-05-22 12:51:27 DESKTOP-OCEF6E1 selenium.webdriver.remote.remote_connection[9272] DEBUG GET http://127.0.0.1:53549/session/ec1f55867f1557c357ff78c2590aad7c/source {}\n",
      "2020-05-22 12:51:27 DESKTOP-OCEF6E1 urllib3.connectionpool[9272] DEBUG http://127.0.0.1:53549 \"GET /session/ec1f55867f1557c357ff78c2590aad7c/source HTTP/1.1\" 200 887029\n",
      "2020-05-22 12:51:27 DESKTOP-OCEF6E1 selenium.webdriver.remote.remote_connection[9272] DEBUG Finished Request\n"
     ]
    },
    {
     "name": "stdout",
     "output_type": "stream",
     "text": [
      "1432.85\n",
      "13\n"
     ]
    },
    {
     "name": "stderr",
     "output_type": "stream",
     "text": [
      "2020-05-22 12:51:28 DESKTOP-OCEF6E1 root[9272] INFO model_debug_50: USELESS\n",
      "\n"
     ]
    },
    {
     "name": "stdout",
     "output_type": "stream",
     "text": [
      "23\n"
     ]
    },
    {
     "name": "stderr",
     "output_type": "stream",
     "text": [
      "2020-05-22 12:51:28 DESKTOP-OCEF6E1 selenium.webdriver.remote.remote_connection[9272] DEBUG POST http://127.0.0.1:53549/session/ec1f55867f1557c357ff78c2590aad7c/refresh {}\n",
      "2020-05-22 12:51:30 DESKTOP-OCEF6E1 urllib3.connectionpool[9272] DEBUG http://127.0.0.1:53549 \"POST /session/ec1f55867f1557c357ff78c2590aad7c/refresh HTTP/1.1\" 200 14\n",
      "2020-05-22 12:51:30 DESKTOP-OCEF6E1 selenium.webdriver.remote.remote_connection[9272] DEBUG Finished Request\n",
      "2020-05-22 12:51:45 DESKTOP-OCEF6E1 selenium.webdriver.remote.remote_connection[9272] DEBUG GET http://127.0.0.1:53549/session/ec1f55867f1557c357ff78c2590aad7c/source {}\n",
      "2020-05-22 12:51:45 DESKTOP-OCEF6E1 urllib3.connectionpool[9272] DEBUG http://127.0.0.1:53549 \"GET /session/ec1f55867f1557c357ff78c2590aad7c/source HTTP/1.1\" 200 888046\n",
      "2020-05-22 12:51:45 DESKTOP-OCEF6E1 selenium.webdriver.remote.remote_connection[9272] DEBUG Finished Request\n"
     ]
    },
    {
     "name": "stdout",
     "output_type": "stream",
     "text": [
      "1433.05\n",
      "14\n"
     ]
    },
    {
     "name": "stderr",
     "output_type": "stream",
     "text": [
      "2020-05-22 12:51:46 DESKTOP-OCEF6E1 root[9272] INFO model_debug_50: USELESS\n",
      "\n"
     ]
    },
    {
     "name": "stdout",
     "output_type": "stream",
     "text": [
      "24\n"
     ]
    },
    {
     "name": "stderr",
     "output_type": "stream",
     "text": [
      "2020-05-22 12:51:46 DESKTOP-OCEF6E1 selenium.webdriver.remote.remote_connection[9272] DEBUG POST http://127.0.0.1:53549/session/ec1f55867f1557c357ff78c2590aad7c/refresh {}\n",
      "2020-05-22 12:51:47 DESKTOP-OCEF6E1 urllib3.connectionpool[9272] DEBUG http://127.0.0.1:53549 \"POST /session/ec1f55867f1557c357ff78c2590aad7c/refresh HTTP/1.1\" 200 14\n",
      "2020-05-22 12:51:47 DESKTOP-OCEF6E1 selenium.webdriver.remote.remote_connection[9272] DEBUG Finished Request\n",
      "2020-05-22 12:52:02 DESKTOP-OCEF6E1 selenium.webdriver.remote.remote_connection[9272] DEBUG GET http://127.0.0.1:53549/session/ec1f55867f1557c357ff78c2590aad7c/source {}\n",
      "2020-05-22 12:52:02 DESKTOP-OCEF6E1 urllib3.connectionpool[9272] DEBUG http://127.0.0.1:53549 \"GET /session/ec1f55867f1557c357ff78c2590aad7c/source HTTP/1.1\" 200 886969\n",
      "2020-05-22 12:52:02 DESKTOP-OCEF6E1 selenium.webdriver.remote.remote_connection[9272] DEBUG Finished Request\n"
     ]
    },
    {
     "name": "stdout",
     "output_type": "stream",
     "text": [
      "1431.3\n",
      "15\n"
     ]
    },
    {
     "name": "stderr",
     "output_type": "stream",
     "text": [
      "2020-05-22 12:52:05 DESKTOP-OCEF6E1 root[9272] INFO model_debug_50: USELESS\n",
      "\n"
     ]
    },
    {
     "name": "stdout",
     "output_type": "stream",
     "text": [
      "25\n"
     ]
    },
    {
     "name": "stderr",
     "output_type": "stream",
     "text": [
      "2020-05-22 12:52:05 DESKTOP-OCEF6E1 selenium.webdriver.remote.remote_connection[9272] DEBUG POST http://127.0.0.1:53549/session/ec1f55867f1557c357ff78c2590aad7c/refresh {}\n",
      "2020-05-22 12:52:06 DESKTOP-OCEF6E1 urllib3.connectionpool[9272] DEBUG http://127.0.0.1:53549 \"POST /session/ec1f55867f1557c357ff78c2590aad7c/refresh HTTP/1.1\" 200 14\n",
      "2020-05-22 12:52:06 DESKTOP-OCEF6E1 selenium.webdriver.remote.remote_connection[9272] DEBUG Finished Request\n",
      "2020-05-22 12:52:21 DESKTOP-OCEF6E1 selenium.webdriver.remote.remote_connection[9272] DEBUG GET http://127.0.0.1:53549/session/ec1f55867f1557c357ff78c2590aad7c/source {}\n",
      "2020-05-22 12:52:21 DESKTOP-OCEF6E1 urllib3.connectionpool[9272] DEBUG http://127.0.0.1:53549 \"GET /session/ec1f55867f1557c357ff78c2590aad7c/source HTTP/1.1\" 200 887090\n",
      "2020-05-22 12:52:21 DESKTOP-OCEF6E1 selenium.webdriver.remote.remote_connection[9272] DEBUG Finished Request\n"
     ]
    },
    {
     "name": "stdout",
     "output_type": "stream",
     "text": [
      "1426.95\n",
      "16\n"
     ]
    },
    {
     "name": "stderr",
     "output_type": "stream",
     "text": [
      "2020-05-22 12:52:22 DESKTOP-OCEF6E1 root[9272] INFO model_debug_50: USELESS\n",
      "\n"
     ]
    },
    {
     "name": "stdout",
     "output_type": "stream",
     "text": [
      "26\n"
     ]
    },
    {
     "name": "stderr",
     "output_type": "stream",
     "text": [
      "2020-05-22 12:52:22 DESKTOP-OCEF6E1 selenium.webdriver.remote.remote_connection[9272] DEBUG POST http://127.0.0.1:53549/session/ec1f55867f1557c357ff78c2590aad7c/refresh {}\n",
      "2020-05-22 12:52:23 DESKTOP-OCEF6E1 urllib3.connectionpool[9272] DEBUG http://127.0.0.1:53549 \"POST /session/ec1f55867f1557c357ff78c2590aad7c/refresh HTTP/1.1\" 200 14\n",
      "2020-05-22 12:52:23 DESKTOP-OCEF6E1 selenium.webdriver.remote.remote_connection[9272] DEBUG Finished Request\n",
      "2020-05-22 12:52:38 DESKTOP-OCEF6E1 selenium.webdriver.remote.remote_connection[9272] DEBUG GET http://127.0.0.1:53549/session/ec1f55867f1557c357ff78c2590aad7c/source {}\n",
      "2020-05-22 12:52:39 DESKTOP-OCEF6E1 urllib3.connectionpool[9272] DEBUG http://127.0.0.1:53549 \"GET /session/ec1f55867f1557c357ff78c2590aad7c/source HTTP/1.1\" 200 887129\n",
      "2020-05-22 12:52:39 DESKTOP-OCEF6E1 selenium.webdriver.remote.remote_connection[9272] DEBUG Finished Request\n"
     ]
    },
    {
     "name": "stdout",
     "output_type": "stream",
     "text": [
      "1428.95\n",
      "17\n"
     ]
    },
    {
     "name": "stderr",
     "output_type": "stream",
     "text": [
      "2020-05-22 12:52:39 DESKTOP-OCEF6E1 root[9272] INFO model_debug_50: USELESS\n",
      "\n"
     ]
    },
    {
     "name": "stdout",
     "output_type": "stream",
     "text": [
      "27\n"
     ]
    },
    {
     "name": "stderr",
     "output_type": "stream",
     "text": [
      "2020-05-22 12:52:40 DESKTOP-OCEF6E1 selenium.webdriver.remote.remote_connection[9272] DEBUG POST http://127.0.0.1:53549/session/ec1f55867f1557c357ff78c2590aad7c/refresh {}\n",
      "2020-05-22 12:52:41 DESKTOP-OCEF6E1 urllib3.connectionpool[9272] DEBUG http://127.0.0.1:53549 \"POST /session/ec1f55867f1557c357ff78c2590aad7c/refresh HTTP/1.1\" 200 14\n",
      "2020-05-22 12:52:41 DESKTOP-OCEF6E1 selenium.webdriver.remote.remote_connection[9272] DEBUG Finished Request\n",
      "2020-05-22 12:52:56 DESKTOP-OCEF6E1 selenium.webdriver.remote.remote_connection[9272] DEBUG GET http://127.0.0.1:53549/session/ec1f55867f1557c357ff78c2590aad7c/source {}\n",
      "2020-05-22 12:52:56 DESKTOP-OCEF6E1 urllib3.connectionpool[9272] DEBUG http://127.0.0.1:53549 \"GET /session/ec1f55867f1557c357ff78c2590aad7c/source HTTP/1.1\" 200 886976\n",
      "2020-05-22 12:52:56 DESKTOP-OCEF6E1 selenium.webdriver.remote.remote_connection[9272] DEBUG Finished Request\n"
     ]
    },
    {
     "name": "stdout",
     "output_type": "stream",
     "text": [
      "1428.45\n",
      "18\n"
     ]
    },
    {
     "name": "stderr",
     "output_type": "stream",
     "text": [
      "2020-05-22 12:52:57 DESKTOP-OCEF6E1 root[9272] INFO model_debug_50: USELESS\n",
      "\n"
     ]
    },
    {
     "name": "stdout",
     "output_type": "stream",
     "text": [
      "28\n"
     ]
    },
    {
     "name": "stderr",
     "output_type": "stream",
     "text": [
      "2020-05-22 12:52:57 DESKTOP-OCEF6E1 selenium.webdriver.remote.remote_connection[9272] DEBUG POST http://127.0.0.1:53549/session/ec1f55867f1557c357ff78c2590aad7c/refresh {}\n",
      "2020-05-22 12:52:58 DESKTOP-OCEF6E1 urllib3.connectionpool[9272] DEBUG http://127.0.0.1:53549 \"POST /session/ec1f55867f1557c357ff78c2590aad7c/refresh HTTP/1.1\" 200 14\n",
      "2020-05-22 12:52:58 DESKTOP-OCEF6E1 selenium.webdriver.remote.remote_connection[9272] DEBUG Finished Request\n",
      "2020-05-22 12:53:13 DESKTOP-OCEF6E1 selenium.webdriver.remote.remote_connection[9272] DEBUG GET http://127.0.0.1:53549/session/ec1f55867f1557c357ff78c2590aad7c/source {}\n",
      "2020-05-22 12:53:13 DESKTOP-OCEF6E1 urllib3.connectionpool[9272] DEBUG http://127.0.0.1:53549 \"GET /session/ec1f55867f1557c357ff78c2590aad7c/source HTTP/1.1\" 200 888065\n",
      "2020-05-22 12:53:13 DESKTOP-OCEF6E1 selenium.webdriver.remote.remote_connection[9272] DEBUG Finished Request\n"
     ]
    },
    {
     "name": "stdout",
     "output_type": "stream",
     "text": [
      "1427.55\n",
      "19\n"
     ]
    },
    {
     "name": "stderr",
     "output_type": "stream",
     "text": [
      "2020-05-22 12:53:14 DESKTOP-OCEF6E1 root[9272] INFO model_debug_50: USELESS\n",
      "\n"
     ]
    },
    {
     "name": "stdout",
     "output_type": "stream",
     "text": [
      "29\n"
     ]
    },
    {
     "name": "stderr",
     "output_type": "stream",
     "text": [
      "2020-05-22 12:53:14 DESKTOP-OCEF6E1 selenium.webdriver.remote.remote_connection[9272] DEBUG POST http://127.0.0.1:53549/session/ec1f55867f1557c357ff78c2590aad7c/refresh {}\n",
      "2020-05-22 12:53:15 DESKTOP-OCEF6E1 urllib3.connectionpool[9272] DEBUG http://127.0.0.1:53549 \"POST /session/ec1f55867f1557c357ff78c2590aad7c/refresh HTTP/1.1\" 200 14\n",
      "2020-05-22 12:53:15 DESKTOP-OCEF6E1 selenium.webdriver.remote.remote_connection[9272] DEBUG Finished Request\n",
      "2020-05-22 12:53:30 DESKTOP-OCEF6E1 selenium.webdriver.remote.remote_connection[9272] DEBUG GET http://127.0.0.1:53549/session/ec1f55867f1557c357ff78c2590aad7c/source {}\n",
      "2020-05-22 12:53:30 DESKTOP-OCEF6E1 urllib3.connectionpool[9272] DEBUG http://127.0.0.1:53549 \"GET /session/ec1f55867f1557c357ff78c2590aad7c/source HTTP/1.1\" 200 888044\n",
      "2020-05-22 12:53:30 DESKTOP-OCEF6E1 selenium.webdriver.remote.remote_connection[9272] DEBUG Finished Request\n"
     ]
    },
    {
     "name": "stdout",
     "output_type": "stream",
     "text": [
      "1427.85\n",
      "20\n"
     ]
    },
    {
     "name": "stderr",
     "output_type": "stream",
     "text": [
      "2020-05-22 12:53:31 DESKTOP-OCEF6E1 root[9272] INFO model_debug_50: USELESS\n",
      "\n"
     ]
    },
    {
     "name": "stdout",
     "output_type": "stream",
     "text": [
      "30\n"
     ]
    },
    {
     "name": "stderr",
     "output_type": "stream",
     "text": [
      "2020-05-22 12:53:31 DESKTOP-OCEF6E1 selenium.webdriver.remote.remote_connection[9272] DEBUG POST http://127.0.0.1:53549/session/ec1f55867f1557c357ff78c2590aad7c/refresh {}\n",
      "2020-05-22 12:53:32 DESKTOP-OCEF6E1 urllib3.connectionpool[9272] DEBUG http://127.0.0.1:53549 \"POST /session/ec1f55867f1557c357ff78c2590aad7c/refresh HTTP/1.1\" 200 14\n",
      "2020-05-22 12:53:32 DESKTOP-OCEF6E1 selenium.webdriver.remote.remote_connection[9272] DEBUG Finished Request\n",
      "2020-05-22 12:53:47 DESKTOP-OCEF6E1 selenium.webdriver.remote.remote_connection[9272] DEBUG GET http://127.0.0.1:53549/session/ec1f55867f1557c357ff78c2590aad7c/source {}\n",
      "2020-05-22 12:53:47 DESKTOP-OCEF6E1 urllib3.connectionpool[9272] DEBUG http://127.0.0.1:53549 \"GET /session/ec1f55867f1557c357ff78c2590aad7c/source HTTP/1.1\" 200 887028\n",
      "2020-05-22 12:53:47 DESKTOP-OCEF6E1 selenium.webdriver.remote.remote_connection[9272] DEBUG Finished Request\n"
     ]
    },
    {
     "name": "stdout",
     "output_type": "stream",
     "text": [
      "1428.8\n",
      "21\n"
     ]
    },
    {
     "name": "stderr",
     "output_type": "stream",
     "text": [
      "2020-05-22 12:53:48 DESKTOP-OCEF6E1 root[9272] INFO model_debug_50: USELESS\n",
      "\n"
     ]
    },
    {
     "name": "stdout",
     "output_type": "stream",
     "text": [
      "31\n"
     ]
    },
    {
     "name": "stderr",
     "output_type": "stream",
     "text": [
      "2020-05-22 12:53:48 DESKTOP-OCEF6E1 selenium.webdriver.remote.remote_connection[9272] DEBUG POST http://127.0.0.1:53549/session/ec1f55867f1557c357ff78c2590aad7c/refresh {}\n",
      "2020-05-22 12:53:49 DESKTOP-OCEF6E1 urllib3.connectionpool[9272] DEBUG http://127.0.0.1:53549 \"POST /session/ec1f55867f1557c357ff78c2590aad7c/refresh HTTP/1.1\" 200 14\n",
      "2020-05-22 12:53:49 DESKTOP-OCEF6E1 selenium.webdriver.remote.remote_connection[9272] DEBUG Finished Request\n",
      "2020-05-22 12:54:04 DESKTOP-OCEF6E1 selenium.webdriver.remote.remote_connection[9272] DEBUG GET http://127.0.0.1:53549/session/ec1f55867f1557c357ff78c2590aad7c/source {}\n",
      "2020-05-22 12:54:04 DESKTOP-OCEF6E1 urllib3.connectionpool[9272] DEBUG http://127.0.0.1:53549 \"GET /session/ec1f55867f1557c357ff78c2590aad7c/source HTTP/1.1\" 200 887030\n",
      "2020-05-22 12:54:04 DESKTOP-OCEF6E1 selenium.webdriver.remote.remote_connection[9272] DEBUG Finished Request\n"
     ]
    },
    {
     "name": "stdout",
     "output_type": "stream",
     "text": [
      "1430.0\n",
      "22\n"
     ]
    },
    {
     "name": "stderr",
     "output_type": "stream",
     "text": [
      "2020-05-22 12:54:05 DESKTOP-OCEF6E1 root[9272] INFO model_debug_50: USELESS\n",
      "\n"
     ]
    },
    {
     "name": "stdout",
     "output_type": "stream",
     "text": [
      "32\n"
     ]
    },
    {
     "name": "stderr",
     "output_type": "stream",
     "text": [
      "2020-05-22 12:54:05 DESKTOP-OCEF6E1 selenium.webdriver.remote.remote_connection[9272] DEBUG POST http://127.0.0.1:53549/session/ec1f55867f1557c357ff78c2590aad7c/refresh {}\n",
      "2020-05-22 12:54:06 DESKTOP-OCEF6E1 urllib3.connectionpool[9272] DEBUG http://127.0.0.1:53549 \"POST /session/ec1f55867f1557c357ff78c2590aad7c/refresh HTTP/1.1\" 200 14\n",
      "2020-05-22 12:54:06 DESKTOP-OCEF6E1 selenium.webdriver.remote.remote_connection[9272] DEBUG Finished Request\n",
      "2020-05-22 12:54:21 DESKTOP-OCEF6E1 selenium.webdriver.remote.remote_connection[9272] DEBUG GET http://127.0.0.1:53549/session/ec1f55867f1557c357ff78c2590aad7c/source {}\n",
      "2020-05-22 12:54:21 DESKTOP-OCEF6E1 urllib3.connectionpool[9272] DEBUG http://127.0.0.1:53549 \"GET /session/ec1f55867f1557c357ff78c2590aad7c/source HTTP/1.1\" 200 887181\n",
      "2020-05-22 12:54:22 DESKTOP-OCEF6E1 selenium.webdriver.remote.remote_connection[9272] DEBUG Finished Request\n"
     ]
    },
    {
     "name": "stdout",
     "output_type": "stream",
     "text": [
      "1429.9\n",
      "23\n"
     ]
    },
    {
     "name": "stderr",
     "output_type": "stream",
     "text": [
      "2020-05-22 12:54:22 DESKTOP-OCEF6E1 root[9272] INFO model_debug_50: USELESS\n",
      "\n"
     ]
    },
    {
     "name": "stdout",
     "output_type": "stream",
     "text": [
      "33\n"
     ]
    },
    {
     "name": "stderr",
     "output_type": "stream",
     "text": [
      "2020-05-22 12:54:22 DESKTOP-OCEF6E1 selenium.webdriver.remote.remote_connection[9272] DEBUG POST http://127.0.0.1:53549/session/ec1f55867f1557c357ff78c2590aad7c/refresh {}\n",
      "2020-05-22 12:54:24 DESKTOP-OCEF6E1 urllib3.connectionpool[9272] DEBUG http://127.0.0.1:53549 \"POST /session/ec1f55867f1557c357ff78c2590aad7c/refresh HTTP/1.1\" 200 14\n",
      "2020-05-22 12:54:24 DESKTOP-OCEF6E1 selenium.webdriver.remote.remote_connection[9272] DEBUG Finished Request\n",
      "2020-05-22 12:54:39 DESKTOP-OCEF6E1 selenium.webdriver.remote.remote_connection[9272] DEBUG GET http://127.0.0.1:53549/session/ec1f55867f1557c357ff78c2590aad7c/source {}\n",
      "2020-05-22 12:54:39 DESKTOP-OCEF6E1 urllib3.connectionpool[9272] DEBUG http://127.0.0.1:53549 \"GET /session/ec1f55867f1557c357ff78c2590aad7c/source HTTP/1.1\" 200 888234\n",
      "2020-05-22 12:54:39 DESKTOP-OCEF6E1 selenium.webdriver.remote.remote_connection[9272] DEBUG Finished Request\n"
     ]
    },
    {
     "name": "stdout",
     "output_type": "stream",
     "text": [
      "1430.6\n",
      "24\n"
     ]
    },
    {
     "name": "stderr",
     "output_type": "stream",
     "text": [
      "2020-05-22 12:54:40 DESKTOP-OCEF6E1 root[9272] INFO model_debug_50: USELESS\n",
      "\n"
     ]
    },
    {
     "name": "stdout",
     "output_type": "stream",
     "text": [
      "34\n"
     ]
    },
    {
     "name": "stderr",
     "output_type": "stream",
     "text": [
      "2020-05-22 12:54:40 DESKTOP-OCEF6E1 selenium.webdriver.remote.remote_connection[9272] DEBUG POST http://127.0.0.1:53549/session/ec1f55867f1557c357ff78c2590aad7c/refresh {}\n",
      "2020-05-22 12:54:41 DESKTOP-OCEF6E1 urllib3.connectionpool[9272] DEBUG http://127.0.0.1:53549 \"POST /session/ec1f55867f1557c357ff78c2590aad7c/refresh HTTP/1.1\" 200 14\n",
      "2020-05-22 12:54:41 DESKTOP-OCEF6E1 selenium.webdriver.remote.remote_connection[9272] DEBUG Finished Request\n",
      "2020-05-22 12:54:56 DESKTOP-OCEF6E1 selenium.webdriver.remote.remote_connection[9272] DEBUG GET http://127.0.0.1:53549/session/ec1f55867f1557c357ff78c2590aad7c/source {}\n",
      "2020-05-22 12:54:56 DESKTOP-OCEF6E1 urllib3.connectionpool[9272] DEBUG http://127.0.0.1:53549 \"GET /session/ec1f55867f1557c357ff78c2590aad7c/source HTTP/1.1\" 200 887048\n",
      "2020-05-22 12:54:56 DESKTOP-OCEF6E1 selenium.webdriver.remote.remote_connection[9272] DEBUG Finished Request\n"
     ]
    },
    {
     "name": "stdout",
     "output_type": "stream",
     "text": [
      "1431.8\n",
      "25\n"
     ]
    },
    {
     "name": "stderr",
     "output_type": "stream",
     "text": [
      "2020-05-22 12:54:57 DESKTOP-OCEF6E1 root[9272] INFO model_debug_50: USELESS\n",
      "\n"
     ]
    },
    {
     "name": "stdout",
     "output_type": "stream",
     "text": [
      "35\n"
     ]
    },
    {
     "name": "stderr",
     "output_type": "stream",
     "text": [
      "2020-05-22 12:54:57 DESKTOP-OCEF6E1 selenium.webdriver.remote.remote_connection[9272] DEBUG POST http://127.0.0.1:53549/session/ec1f55867f1557c357ff78c2590aad7c/refresh {}\n",
      "2020-05-22 12:54:58 DESKTOP-OCEF6E1 urllib3.connectionpool[9272] DEBUG http://127.0.0.1:53549 \"POST /session/ec1f55867f1557c357ff78c2590aad7c/refresh HTTP/1.1\" 200 14\n",
      "2020-05-22 12:54:58 DESKTOP-OCEF6E1 selenium.webdriver.remote.remote_connection[9272] DEBUG Finished Request\n",
      "2020-05-22 12:55:13 DESKTOP-OCEF6E1 selenium.webdriver.remote.remote_connection[9272] DEBUG GET http://127.0.0.1:53549/session/ec1f55867f1557c357ff78c2590aad7c/source {}\n",
      "2020-05-22 12:55:13 DESKTOP-OCEF6E1 urllib3.connectionpool[9272] DEBUG http://127.0.0.1:53549 \"GET /session/ec1f55867f1557c357ff78c2590aad7c/source HTTP/1.1\" 200 888418\n",
      "2020-05-22 12:55:13 DESKTOP-OCEF6E1 selenium.webdriver.remote.remote_connection[9272] DEBUG Finished Request\n"
     ]
    },
    {
     "name": "stdout",
     "output_type": "stream",
     "text": [
      "1431.5\n",
      "26\n"
     ]
    },
    {
     "name": "stderr",
     "output_type": "stream",
     "text": [
      "2020-05-22 12:55:14 DESKTOP-OCEF6E1 root[9272] INFO model_debug_50: USELESS\n",
      "\n"
     ]
    },
    {
     "name": "stdout",
     "output_type": "stream",
     "text": [
      "36\n"
     ]
    },
    {
     "name": "stderr",
     "output_type": "stream",
     "text": [
      "2020-05-22 12:55:14 DESKTOP-OCEF6E1 selenium.webdriver.remote.remote_connection[9272] DEBUG POST http://127.0.0.1:53549/session/ec1f55867f1557c357ff78c2590aad7c/refresh {}\n",
      "2020-05-22 12:55:15 DESKTOP-OCEF6E1 urllib3.connectionpool[9272] DEBUG http://127.0.0.1:53549 \"POST /session/ec1f55867f1557c357ff78c2590aad7c/refresh HTTP/1.1\" 200 14\n",
      "2020-05-22 12:55:15 DESKTOP-OCEF6E1 selenium.webdriver.remote.remote_connection[9272] DEBUG Finished Request\n",
      "2020-05-22 12:55:30 DESKTOP-OCEF6E1 selenium.webdriver.remote.remote_connection[9272] DEBUG GET http://127.0.0.1:53549/session/ec1f55867f1557c357ff78c2590aad7c/source {}\n",
      "2020-05-22 12:55:30 DESKTOP-OCEF6E1 urllib3.connectionpool[9272] DEBUG http://127.0.0.1:53549 \"GET /session/ec1f55867f1557c357ff78c2590aad7c/source HTTP/1.1\" 200 888068\n",
      "2020-05-22 12:55:30 DESKTOP-OCEF6E1 selenium.webdriver.remote.remote_connection[9272] DEBUG Finished Request\n"
     ]
    },
    {
     "name": "stdout",
     "output_type": "stream",
     "text": [
      "1429.9\n",
      "27\n"
     ]
    },
    {
     "name": "stderr",
     "output_type": "stream",
     "text": [
      "2020-05-22 12:55:31 DESKTOP-OCEF6E1 root[9272] INFO model_debug_50: USELESS\n",
      "\n"
     ]
    },
    {
     "name": "stdout",
     "output_type": "stream",
     "text": [
      "37\n"
     ]
    },
    {
     "name": "stderr",
     "output_type": "stream",
     "text": [
      "2020-05-22 12:55:31 DESKTOP-OCEF6E1 selenium.webdriver.remote.remote_connection[9272] DEBUG POST http://127.0.0.1:53549/session/ec1f55867f1557c357ff78c2590aad7c/refresh {}\n",
      "2020-05-22 12:55:33 DESKTOP-OCEF6E1 urllib3.connectionpool[9272] DEBUG http://127.0.0.1:53549 \"POST /session/ec1f55867f1557c357ff78c2590aad7c/refresh HTTP/1.1\" 200 14\n",
      "2020-05-22 12:55:33 DESKTOP-OCEF6E1 selenium.webdriver.remote.remote_connection[9272] DEBUG Finished Request\n",
      "2020-05-22 12:55:49 DESKTOP-OCEF6E1 selenium.webdriver.remote.remote_connection[9272] DEBUG GET http://127.0.0.1:53549/session/ec1f55867f1557c357ff78c2590aad7c/source {}\n",
      "2020-05-22 12:55:49 DESKTOP-OCEF6E1 urllib3.connectionpool[9272] DEBUG http://127.0.0.1:53549 \"GET /session/ec1f55867f1557c357ff78c2590aad7c/source HTTP/1.1\" 200 887005\n",
      "2020-05-22 12:55:49 DESKTOP-OCEF6E1 selenium.webdriver.remote.remote_connection[9272] DEBUG Finished Request\n"
     ]
    },
    {
     "name": "stdout",
     "output_type": "stream",
     "text": [
      "1428.0\n",
      "28\n"
     ]
    },
    {
     "name": "stderr",
     "output_type": "stream",
     "text": [
      "2020-05-22 12:55:50 DESKTOP-OCEF6E1 root[9272] INFO model_debug_50: USELESS\n",
      "\n"
     ]
    },
    {
     "name": "stdout",
     "output_type": "stream",
     "text": [
      "38\n"
     ]
    },
    {
     "name": "stderr",
     "output_type": "stream",
     "text": [
      "2020-05-22 12:55:50 DESKTOP-OCEF6E1 selenium.webdriver.remote.remote_connection[9272] DEBUG POST http://127.0.0.1:53549/session/ec1f55867f1557c357ff78c2590aad7c/refresh {}\n",
      "2020-05-22 12:55:51 DESKTOP-OCEF6E1 urllib3.connectionpool[9272] DEBUG http://127.0.0.1:53549 \"POST /session/ec1f55867f1557c357ff78c2590aad7c/refresh HTTP/1.1\" 200 14\n",
      "2020-05-22 12:55:51 DESKTOP-OCEF6E1 selenium.webdriver.remote.remote_connection[9272] DEBUG Finished Request\n",
      "2020-05-22 12:56:06 DESKTOP-OCEF6E1 selenium.webdriver.remote.remote_connection[9272] DEBUG GET http://127.0.0.1:53549/session/ec1f55867f1557c357ff78c2590aad7c/source {}\n",
      "2020-05-22 12:56:06 DESKTOP-OCEF6E1 urllib3.connectionpool[9272] DEBUG http://127.0.0.1:53549 \"GET /session/ec1f55867f1557c357ff78c2590aad7c/source HTTP/1.1\" 200 886998\n",
      "2020-05-22 12:56:06 DESKTOP-OCEF6E1 selenium.webdriver.remote.remote_connection[9272] DEBUG Finished Request\n"
     ]
    },
    {
     "name": "stdout",
     "output_type": "stream",
     "text": [
      "1428.6\n",
      "29\n"
     ]
    },
    {
     "name": "stderr",
     "output_type": "stream",
     "text": [
      "2020-05-22 12:56:07 DESKTOP-OCEF6E1 root[9272] INFO model_debug_50: USELESS\n",
      "\n"
     ]
    },
    {
     "name": "stdout",
     "output_type": "stream",
     "text": [
      "39\n"
     ]
    },
    {
     "name": "stderr",
     "output_type": "stream",
     "text": [
      "2020-05-22 12:56:07 DESKTOP-OCEF6E1 selenium.webdriver.remote.remote_connection[9272] DEBUG POST http://127.0.0.1:53549/session/ec1f55867f1557c357ff78c2590aad7c/refresh {}\n",
      "2020-05-22 12:56:08 DESKTOP-OCEF6E1 urllib3.connectionpool[9272] DEBUG http://127.0.0.1:53549 \"POST /session/ec1f55867f1557c357ff78c2590aad7c/refresh HTTP/1.1\" 200 14\n",
      "2020-05-22 12:56:08 DESKTOP-OCEF6E1 selenium.webdriver.remote.remote_connection[9272] DEBUG Finished Request\n",
      "2020-05-22 12:56:23 DESKTOP-OCEF6E1 selenium.webdriver.remote.remote_connection[9272] DEBUG GET http://127.0.0.1:53549/session/ec1f55867f1557c357ff78c2590aad7c/source {}\n",
      "2020-05-22 12:56:23 DESKTOP-OCEF6E1 urllib3.connectionpool[9272] DEBUG http://127.0.0.1:53549 \"GET /session/ec1f55867f1557c357ff78c2590aad7c/source HTTP/1.1\" 200 887325\n",
      "2020-05-22 12:56:23 DESKTOP-OCEF6E1 selenium.webdriver.remote.remote_connection[9272] DEBUG Finished Request\n"
     ]
    },
    {
     "name": "stdout",
     "output_type": "stream",
     "text": [
      "1429.0\n",
      "30\n"
     ]
    },
    {
     "name": "stderr",
     "output_type": "stream",
     "text": [
      "2020-05-22 12:56:24 DESKTOP-OCEF6E1 root[9272] INFO model_debug_50: USELESS\n",
      "\n"
     ]
    },
    {
     "name": "stdout",
     "output_type": "stream",
     "text": [
      "40\n"
     ]
    },
    {
     "name": "stderr",
     "output_type": "stream",
     "text": [
      "2020-05-22 12:56:24 DESKTOP-OCEF6E1 selenium.webdriver.remote.remote_connection[9272] DEBUG POST http://127.0.0.1:53549/session/ec1f55867f1557c357ff78c2590aad7c/refresh {}\n",
      "2020-05-22 12:56:25 DESKTOP-OCEF6E1 urllib3.connectionpool[9272] DEBUG http://127.0.0.1:53549 \"POST /session/ec1f55867f1557c357ff78c2590aad7c/refresh HTTP/1.1\" 200 14\n",
      "2020-05-22 12:56:25 DESKTOP-OCEF6E1 selenium.webdriver.remote.remote_connection[9272] DEBUG Finished Request\n",
      "2020-05-22 12:56:40 DESKTOP-OCEF6E1 selenium.webdriver.remote.remote_connection[9272] DEBUG GET http://127.0.0.1:53549/session/ec1f55867f1557c357ff78c2590aad7c/source {}\n",
      "2020-05-22 12:56:40 DESKTOP-OCEF6E1 urllib3.connectionpool[9272] DEBUG http://127.0.0.1:53549 \"GET /session/ec1f55867f1557c357ff78c2590aad7c/source HTTP/1.1\" 200 886914\n",
      "2020-05-22 12:56:40 DESKTOP-OCEF6E1 selenium.webdriver.remote.remote_connection[9272] DEBUG Finished Request\n"
     ]
    },
    {
     "name": "stdout",
     "output_type": "stream",
     "text": [
      "1428.7\n",
      "31\n"
     ]
    },
    {
     "name": "stderr",
     "output_type": "stream",
     "text": [
      "2020-05-22 12:56:41 DESKTOP-OCEF6E1 root[9272] INFO model_debug_50: USELESS\n",
      "\n"
     ]
    },
    {
     "name": "stdout",
     "output_type": "stream",
     "text": [
      "41\n"
     ]
    },
    {
     "name": "stderr",
     "output_type": "stream",
     "text": [
      "2020-05-22 12:56:41 DESKTOP-OCEF6E1 selenium.webdriver.remote.remote_connection[9272] DEBUG POST http://127.0.0.1:53549/session/ec1f55867f1557c357ff78c2590aad7c/refresh {}\n",
      "2020-05-22 12:56:42 DESKTOP-OCEF6E1 urllib3.connectionpool[9272] DEBUG http://127.0.0.1:53549 \"POST /session/ec1f55867f1557c357ff78c2590aad7c/refresh HTTP/1.1\" 200 14\n",
      "2020-05-22 12:56:42 DESKTOP-OCEF6E1 selenium.webdriver.remote.remote_connection[9272] DEBUG Finished Request\n",
      "2020-05-22 12:56:57 DESKTOP-OCEF6E1 selenium.webdriver.remote.remote_connection[9272] DEBUG GET http://127.0.0.1:53549/session/ec1f55867f1557c357ff78c2590aad7c/source {}\n",
      "2020-05-22 12:56:57 DESKTOP-OCEF6E1 urllib3.connectionpool[9272] DEBUG http://127.0.0.1:53549 \"GET /session/ec1f55867f1557c357ff78c2590aad7c/source HTTP/1.1\" 200 886948\n",
      "2020-05-22 12:56:58 DESKTOP-OCEF6E1 selenium.webdriver.remote.remote_connection[9272] DEBUG Finished Request\n"
     ]
    },
    {
     "name": "stdout",
     "output_type": "stream",
     "text": [
      "1428.0\n",
      "32\n"
     ]
    },
    {
     "name": "stderr",
     "output_type": "stream",
     "text": [
      "2020-05-22 12:56:59 DESKTOP-OCEF6E1 root[9272] INFO model_debug_50: USELESS\n",
      "\n"
     ]
    },
    {
     "name": "stdout",
     "output_type": "stream",
     "text": [
      "42\n"
     ]
    },
    {
     "name": "stderr",
     "output_type": "stream",
     "text": [
      "2020-05-22 12:56:59 DESKTOP-OCEF6E1 selenium.webdriver.remote.remote_connection[9272] DEBUG POST http://127.0.0.1:53549/session/ec1f55867f1557c357ff78c2590aad7c/refresh {}\n",
      "2020-05-22 12:57:00 DESKTOP-OCEF6E1 urllib3.connectionpool[9272] DEBUG http://127.0.0.1:53549 \"POST /session/ec1f55867f1557c357ff78c2590aad7c/refresh HTTP/1.1\" 200 14\n",
      "2020-05-22 12:57:00 DESKTOP-OCEF6E1 selenium.webdriver.remote.remote_connection[9272] DEBUG Finished Request\n",
      "2020-05-22 12:57:15 DESKTOP-OCEF6E1 selenium.webdriver.remote.remote_connection[9272] DEBUG GET http://127.0.0.1:53549/session/ec1f55867f1557c357ff78c2590aad7c/source {}\n",
      "2020-05-22 12:57:15 DESKTOP-OCEF6E1 urllib3.connectionpool[9272] DEBUG http://127.0.0.1:53549 \"GET /session/ec1f55867f1557c357ff78c2590aad7c/source HTTP/1.1\" 200 888325\n",
      "2020-05-22 12:57:15 DESKTOP-OCEF6E1 selenium.webdriver.remote.remote_connection[9272] DEBUG Finished Request\n"
     ]
    },
    {
     "name": "stdout",
     "output_type": "stream",
     "text": [
      "1428.65\n",
      "33\n"
     ]
    },
    {
     "name": "stderr",
     "output_type": "stream",
     "text": [
      "2020-05-22 12:57:16 DESKTOP-OCEF6E1 root[9272] INFO model_debug_50: USELESS\n",
      "\n"
     ]
    },
    {
     "name": "stdout",
     "output_type": "stream",
     "text": [
      "43\n"
     ]
    },
    {
     "name": "stderr",
     "output_type": "stream",
     "text": [
      "2020-05-22 12:57:16 DESKTOP-OCEF6E1 selenium.webdriver.remote.remote_connection[9272] DEBUG POST http://127.0.0.1:53549/session/ec1f55867f1557c357ff78c2590aad7c/refresh {}\n",
      "2020-05-22 12:57:17 DESKTOP-OCEF6E1 urllib3.connectionpool[9272] DEBUG http://127.0.0.1:53549 \"POST /session/ec1f55867f1557c357ff78c2590aad7c/refresh HTTP/1.1\" 200 14\n",
      "2020-05-22 12:57:17 DESKTOP-OCEF6E1 selenium.webdriver.remote.remote_connection[9272] DEBUG Finished Request\n",
      "2020-05-22 12:57:32 DESKTOP-OCEF6E1 selenium.webdriver.remote.remote_connection[9272] DEBUG GET http://127.0.0.1:53549/session/ec1f55867f1557c357ff78c2590aad7c/source {}\n",
      "2020-05-22 12:57:32 DESKTOP-OCEF6E1 urllib3.connectionpool[9272] DEBUG http://127.0.0.1:53549 \"GET /session/ec1f55867f1557c357ff78c2590aad7c/source HTTP/1.1\" 200 886982\n",
      "2020-05-22 12:57:32 DESKTOP-OCEF6E1 selenium.webdriver.remote.remote_connection[9272] DEBUG Finished Request\n"
     ]
    },
    {
     "name": "stdout",
     "output_type": "stream",
     "text": [
      "1429.15\n",
      "34\n"
     ]
    },
    {
     "name": "stderr",
     "output_type": "stream",
     "text": [
      "2020-05-22 12:57:33 DESKTOP-OCEF6E1 root[9272] INFO model_debug_50: USELESS\n",
      "\n"
     ]
    },
    {
     "name": "stdout",
     "output_type": "stream",
     "text": [
      "44\n"
     ]
    },
    {
     "name": "stderr",
     "output_type": "stream",
     "text": [
      "2020-05-22 12:57:33 DESKTOP-OCEF6E1 selenium.webdriver.remote.remote_connection[9272] DEBUG POST http://127.0.0.1:53549/session/ec1f55867f1557c357ff78c2590aad7c/refresh {}\n",
      "2020-05-22 12:57:34 DESKTOP-OCEF6E1 urllib3.connectionpool[9272] DEBUG http://127.0.0.1:53549 \"POST /session/ec1f55867f1557c357ff78c2590aad7c/refresh HTTP/1.1\" 200 14\n",
      "2020-05-22 12:57:34 DESKTOP-OCEF6E1 selenium.webdriver.remote.remote_connection[9272] DEBUG Finished Request\n",
      "2020-05-22 12:57:49 DESKTOP-OCEF6E1 selenium.webdriver.remote.remote_connection[9272] DEBUG GET http://127.0.0.1:53549/session/ec1f55867f1557c357ff78c2590aad7c/source {}\n",
      "2020-05-22 12:57:49 DESKTOP-OCEF6E1 urllib3.connectionpool[9272] DEBUG http://127.0.0.1:53549 \"GET /session/ec1f55867f1557c357ff78c2590aad7c/source HTTP/1.1\" 200 886959\n",
      "2020-05-22 12:57:49 DESKTOP-OCEF6E1 selenium.webdriver.remote.remote_connection[9272] DEBUG Finished Request\n"
     ]
    },
    {
     "name": "stdout",
     "output_type": "stream",
     "text": [
      "1429.4\n",
      "35\n"
     ]
    },
    {
     "name": "stderr",
     "output_type": "stream",
     "text": [
      "2020-05-22 12:57:50 DESKTOP-OCEF6E1 root[9272] INFO model_debug_50: USELESS\n",
      "\n"
     ]
    },
    {
     "name": "stdout",
     "output_type": "stream",
     "text": [
      "45\n"
     ]
    },
    {
     "name": "stderr",
     "output_type": "stream",
     "text": [
      "2020-05-22 12:57:50 DESKTOP-OCEF6E1 selenium.webdriver.remote.remote_connection[9272] DEBUG POST http://127.0.0.1:53549/session/ec1f55867f1557c357ff78c2590aad7c/refresh {}\n",
      "2020-05-22 12:57:51 DESKTOP-OCEF6E1 urllib3.connectionpool[9272] DEBUG http://127.0.0.1:53549 \"POST /session/ec1f55867f1557c357ff78c2590aad7c/refresh HTTP/1.1\" 200 14\n",
      "2020-05-22 12:57:51 DESKTOP-OCEF6E1 selenium.webdriver.remote.remote_connection[9272] DEBUG Finished Request\n",
      "2020-05-22 12:58:06 DESKTOP-OCEF6E1 selenium.webdriver.remote.remote_connection[9272] DEBUG GET http://127.0.0.1:53549/session/ec1f55867f1557c357ff78c2590aad7c/source {}\n",
      "2020-05-22 12:58:07 DESKTOP-OCEF6E1 urllib3.connectionpool[9272] DEBUG http://127.0.0.1:53549 \"GET /session/ec1f55867f1557c357ff78c2590aad7c/source HTTP/1.1\" 200 888068\n",
      "2020-05-22 12:58:07 DESKTOP-OCEF6E1 selenium.webdriver.remote.remote_connection[9272] DEBUG Finished Request\n"
     ]
    },
    {
     "name": "stdout",
     "output_type": "stream",
     "text": [
      "1430.35\n",
      "36\n"
     ]
    },
    {
     "name": "stderr",
     "output_type": "stream",
     "text": [
      "2020-05-22 12:58:08 DESKTOP-OCEF6E1 root[9272] INFO model_debug_50: USELESS\n",
      "\n"
     ]
    },
    {
     "name": "stdout",
     "output_type": "stream",
     "text": [
      "46\n"
     ]
    },
    {
     "name": "stderr",
     "output_type": "stream",
     "text": [
      "2020-05-22 12:58:08 DESKTOP-OCEF6E1 selenium.webdriver.remote.remote_connection[9272] DEBUG POST http://127.0.0.1:53549/session/ec1f55867f1557c357ff78c2590aad7c/refresh {}\n",
      "2020-05-22 12:58:09 DESKTOP-OCEF6E1 urllib3.connectionpool[9272] DEBUG http://127.0.0.1:53549 \"POST /session/ec1f55867f1557c357ff78c2590aad7c/refresh HTTP/1.1\" 200 14\n",
      "2020-05-22 12:58:09 DESKTOP-OCEF6E1 selenium.webdriver.remote.remote_connection[9272] DEBUG Finished Request\n",
      "2020-05-22 12:58:24 DESKTOP-OCEF6E1 selenium.webdriver.remote.remote_connection[9272] DEBUG GET http://127.0.0.1:53549/session/ec1f55867f1557c357ff78c2590aad7c/source {}\n",
      "2020-05-22 12:58:24 DESKTOP-OCEF6E1 urllib3.connectionpool[9272] DEBUG http://127.0.0.1:53549 \"GET /session/ec1f55867f1557c357ff78c2590aad7c/source HTTP/1.1\" 200 887169\n",
      "2020-05-22 12:58:24 DESKTOP-OCEF6E1 selenium.webdriver.remote.remote_connection[9272] DEBUG Finished Request\n"
     ]
    },
    {
     "name": "stdout",
     "output_type": "stream",
     "text": [
      "1432.0\n",
      "37\n"
     ]
    },
    {
     "name": "stderr",
     "output_type": "stream",
     "text": [
      "2020-05-22 12:58:25 DESKTOP-OCEF6E1 root[9272] INFO model_debug_50: USELESS\n",
      "\n"
     ]
    },
    {
     "name": "stdout",
     "output_type": "stream",
     "text": [
      "47\n"
     ]
    },
    {
     "name": "stderr",
     "output_type": "stream",
     "text": [
      "2020-05-22 12:58:25 DESKTOP-OCEF6E1 selenium.webdriver.remote.remote_connection[9272] DEBUG POST http://127.0.0.1:53549/session/ec1f55867f1557c357ff78c2590aad7c/refresh {}\n",
      "2020-05-22 12:58:26 DESKTOP-OCEF6E1 urllib3.connectionpool[9272] DEBUG http://127.0.0.1:53549 \"POST /session/ec1f55867f1557c357ff78c2590aad7c/refresh HTTP/1.1\" 200 14\n",
      "2020-05-22 12:58:26 DESKTOP-OCEF6E1 selenium.webdriver.remote.remote_connection[9272] DEBUG Finished Request\n",
      "2020-05-22 12:58:41 DESKTOP-OCEF6E1 selenium.webdriver.remote.remote_connection[9272] DEBUG GET http://127.0.0.1:53549/session/ec1f55867f1557c357ff78c2590aad7c/source {}\n",
      "2020-05-22 12:58:41 DESKTOP-OCEF6E1 urllib3.connectionpool[9272] DEBUG http://127.0.0.1:53549 \"GET /session/ec1f55867f1557c357ff78c2590aad7c/source HTTP/1.1\" 200 887264\n",
      "2020-05-22 12:58:41 DESKTOP-OCEF6E1 selenium.webdriver.remote.remote_connection[9272] DEBUG Finished Request\n"
     ]
    },
    {
     "name": "stdout",
     "output_type": "stream",
     "text": [
      "1430.3\n",
      "38\n"
     ]
    },
    {
     "name": "stderr",
     "output_type": "stream",
     "text": [
      "2020-05-22 12:58:42 DESKTOP-OCEF6E1 root[9272] INFO model_debug_50: USELESS\n",
      "\n"
     ]
    },
    {
     "name": "stdout",
     "output_type": "stream",
     "text": [
      "48\n"
     ]
    },
    {
     "name": "stderr",
     "output_type": "stream",
     "text": [
      "2020-05-22 12:58:42 DESKTOP-OCEF6E1 selenium.webdriver.remote.remote_connection[9272] DEBUG POST http://127.0.0.1:53549/session/ec1f55867f1557c357ff78c2590aad7c/refresh {}\n",
      "2020-05-22 12:58:43 DESKTOP-OCEF6E1 urllib3.connectionpool[9272] DEBUG http://127.0.0.1:53549 \"POST /session/ec1f55867f1557c357ff78c2590aad7c/refresh HTTP/1.1\" 200 14\n",
      "2020-05-22 12:58:43 DESKTOP-OCEF6E1 selenium.webdriver.remote.remote_connection[9272] DEBUG Finished Request\n",
      "2020-05-22 12:58:58 DESKTOP-OCEF6E1 selenium.webdriver.remote.remote_connection[9272] DEBUG GET http://127.0.0.1:53549/session/ec1f55867f1557c357ff78c2590aad7c/source {}\n",
      "2020-05-22 12:58:58 DESKTOP-OCEF6E1 urllib3.connectionpool[9272] DEBUG http://127.0.0.1:53549 \"GET /session/ec1f55867f1557c357ff78c2590aad7c/source HTTP/1.1\" 200 887291\n",
      "2020-05-22 12:58:58 DESKTOP-OCEF6E1 selenium.webdriver.remote.remote_connection[9272] DEBUG Finished Request\n"
     ]
    },
    {
     "name": "stdout",
     "output_type": "stream",
     "text": [
      "1430.45\n",
      "39\n"
     ]
    },
    {
     "name": "stderr",
     "output_type": "stream",
     "text": [
      "2020-05-22 12:58:59 DESKTOP-OCEF6E1 root[9272] INFO model_debug_50: USELESS\n",
      "\n"
     ]
    },
    {
     "name": "stdout",
     "output_type": "stream",
     "text": [
      "49\n"
     ]
    },
    {
     "name": "stderr",
     "output_type": "stream",
     "text": [
      "2020-05-22 12:58:59 DESKTOP-OCEF6E1 selenium.webdriver.remote.remote_connection[9272] DEBUG POST http://127.0.0.1:53549/session/ec1f55867f1557c357ff78c2590aad7c/refresh {}\n",
      "2020-05-22 12:59:00 DESKTOP-OCEF6E1 urllib3.connectionpool[9272] DEBUG http://127.0.0.1:53549 \"POST /session/ec1f55867f1557c357ff78c2590aad7c/refresh HTTP/1.1\" 200 14\n",
      "2020-05-22 12:59:00 DESKTOP-OCEF6E1 selenium.webdriver.remote.remote_connection[9272] DEBUG Finished Request\n",
      "2020-05-22 12:59:15 DESKTOP-OCEF6E1 selenium.webdriver.remote.remote_connection[9272] DEBUG GET http://127.0.0.1:53549/session/ec1f55867f1557c357ff78c2590aad7c/source {}\n",
      "2020-05-22 12:59:15 DESKTOP-OCEF6E1 urllib3.connectionpool[9272] DEBUG http://127.0.0.1:53549 \"GET /session/ec1f55867f1557c357ff78c2590aad7c/source HTTP/1.1\" 200 888219\n",
      "2020-05-22 12:59:15 DESKTOP-OCEF6E1 selenium.webdriver.remote.remote_connection[9272] DEBUG Finished Request\n"
     ]
    },
    {
     "name": "stdout",
     "output_type": "stream",
     "text": [
      "1430.05\n",
      "40\n"
     ]
    },
    {
     "name": "stderr",
     "output_type": "stream",
     "text": [
      "2020-05-22 12:59:16 DESKTOP-OCEF6E1 root[9272] INFO model_debug_50: USELESS\n",
      "\n"
     ]
    },
    {
     "name": "stdout",
     "output_type": "stream",
     "text": [
      "50\n"
     ]
    },
    {
     "name": "stderr",
     "output_type": "stream",
     "text": [
      "2020-05-22 12:59:16 DESKTOP-OCEF6E1 selenium.webdriver.remote.remote_connection[9272] DEBUG POST http://127.0.0.1:53549/session/ec1f55867f1557c357ff78c2590aad7c/refresh {}\n",
      "2020-05-22 12:59:17 DESKTOP-OCEF6E1 urllib3.connectionpool[9272] DEBUG http://127.0.0.1:53549 \"POST /session/ec1f55867f1557c357ff78c2590aad7c/refresh HTTP/1.1\" 200 14\n",
      "2020-05-22 12:59:17 DESKTOP-OCEF6E1 selenium.webdriver.remote.remote_connection[9272] DEBUG Finished Request\n",
      "2020-05-22 12:59:32 DESKTOP-OCEF6E1 selenium.webdriver.remote.remote_connection[9272] DEBUG GET http://127.0.0.1:53549/session/ec1f55867f1557c357ff78c2590aad7c/source {}\n",
      "2020-05-22 12:59:32 DESKTOP-OCEF6E1 urllib3.connectionpool[9272] DEBUG http://127.0.0.1:53549 \"GET /session/ec1f55867f1557c357ff78c2590aad7c/source HTTP/1.1\" 200 886993\n",
      "2020-05-22 12:59:32 DESKTOP-OCEF6E1 selenium.webdriver.remote.remote_connection[9272] DEBUG Finished Request\n"
     ]
    },
    {
     "name": "stdout",
     "output_type": "stream",
     "text": [
      "1430.7\n",
      "41\n"
     ]
    },
    {
     "name": "stderr",
     "output_type": "stream",
     "text": [
      "2020-05-22 12:59:33 DESKTOP-OCEF6E1 root[9272] INFO model_debug_50: USELESS\n",
      "\n"
     ]
    },
    {
     "name": "stdout",
     "output_type": "stream",
     "text": [
      "51\n"
     ]
    },
    {
     "name": "stderr",
     "output_type": "stream",
     "text": [
      "2020-05-22 12:59:33 DESKTOP-OCEF6E1 selenium.webdriver.remote.remote_connection[9272] DEBUG POST http://127.0.0.1:53549/session/ec1f55867f1557c357ff78c2590aad7c/refresh {}\n",
      "2020-05-22 12:59:34 DESKTOP-OCEF6E1 urllib3.connectionpool[9272] DEBUG http://127.0.0.1:53549 \"POST /session/ec1f55867f1557c357ff78c2590aad7c/refresh HTTP/1.1\" 200 14\n",
      "2020-05-22 12:59:34 DESKTOP-OCEF6E1 selenium.webdriver.remote.remote_connection[9272] DEBUG Finished Request\n",
      "2020-05-22 12:59:49 DESKTOP-OCEF6E1 selenium.webdriver.remote.remote_connection[9272] DEBUG GET http://127.0.0.1:53549/session/ec1f55867f1557c357ff78c2590aad7c/source {}\n",
      "2020-05-22 12:59:49 DESKTOP-OCEF6E1 urllib3.connectionpool[9272] DEBUG http://127.0.0.1:53549 \"GET /session/ec1f55867f1557c357ff78c2590aad7c/source HTTP/1.1\" 200 888072\n",
      "2020-05-22 12:59:49 DESKTOP-OCEF6E1 selenium.webdriver.remote.remote_connection[9272] DEBUG Finished Request\n"
     ]
    },
    {
     "name": "stdout",
     "output_type": "stream",
     "text": [
      "1430.6\n",
      "42\n"
     ]
    },
    {
     "name": "stderr",
     "output_type": "stream",
     "text": [
      "2020-05-22 12:59:50 DESKTOP-OCEF6E1 root[9272] INFO model_debug_50: USELESS\n",
      "\n"
     ]
    },
    {
     "name": "stdout",
     "output_type": "stream",
     "text": [
      "52\n"
     ]
    },
    {
     "name": "stderr",
     "output_type": "stream",
     "text": [
      "2020-05-22 12:59:50 DESKTOP-OCEF6E1 selenium.webdriver.remote.remote_connection[9272] DEBUG POST http://127.0.0.1:53549/session/ec1f55867f1557c357ff78c2590aad7c/refresh {}\n",
      "2020-05-22 12:59:51 DESKTOP-OCEF6E1 urllib3.connectionpool[9272] DEBUG http://127.0.0.1:53549 \"POST /session/ec1f55867f1557c357ff78c2590aad7c/refresh HTTP/1.1\" 200 14\n",
      "2020-05-22 12:59:51 DESKTOP-OCEF6E1 selenium.webdriver.remote.remote_connection[9272] DEBUG Finished Request\n",
      "2020-05-22 13:00:06 DESKTOP-OCEF6E1 selenium.webdriver.remote.remote_connection[9272] DEBUG GET http://127.0.0.1:53549/session/ec1f55867f1557c357ff78c2590aad7c/source {}\n",
      "2020-05-22 13:00:06 DESKTOP-OCEF6E1 urllib3.connectionpool[9272] DEBUG http://127.0.0.1:53549 \"GET /session/ec1f55867f1557c357ff78c2590aad7c/source HTTP/1.1\" 200 887002\n",
      "2020-05-22 13:00:06 DESKTOP-OCEF6E1 selenium.webdriver.remote.remote_connection[9272] DEBUG Finished Request\n"
     ]
    },
    {
     "name": "stdout",
     "output_type": "stream",
     "text": [
      "1430.7\n",
      "43\n"
     ]
    },
    {
     "name": "stderr",
     "output_type": "stream",
     "text": [
      "2020-05-22 13:00:07 DESKTOP-OCEF6E1 root[9272] INFO model_debug_50: USELESS\n",
      "\n"
     ]
    },
    {
     "name": "stdout",
     "output_type": "stream",
     "text": [
      "53\n"
     ]
    },
    {
     "name": "stderr",
     "output_type": "stream",
     "text": [
      "2020-05-22 13:00:07 DESKTOP-OCEF6E1 selenium.webdriver.remote.remote_connection[9272] DEBUG POST http://127.0.0.1:53549/session/ec1f55867f1557c357ff78c2590aad7c/refresh {}\n",
      "2020-05-22 13:00:08 DESKTOP-OCEF6E1 urllib3.connectionpool[9272] DEBUG http://127.0.0.1:53549 \"POST /session/ec1f55867f1557c357ff78c2590aad7c/refresh HTTP/1.1\" 200 14\n",
      "2020-05-22 13:00:09 DESKTOP-OCEF6E1 selenium.webdriver.remote.remote_connection[9272] DEBUG Finished Request\n",
      "2020-05-22 13:00:24 DESKTOP-OCEF6E1 selenium.webdriver.remote.remote_connection[9272] DEBUG GET http://127.0.0.1:53549/session/ec1f55867f1557c357ff78c2590aad7c/source {}\n",
      "2020-05-22 13:00:24 DESKTOP-OCEF6E1 urllib3.connectionpool[9272] DEBUG http://127.0.0.1:53549 \"GET /session/ec1f55867f1557c357ff78c2590aad7c/source HTTP/1.1\" 200 886944\n",
      "2020-05-22 13:00:24 DESKTOP-OCEF6E1 selenium.webdriver.remote.remote_connection[9272] DEBUG Finished Request\n"
     ]
    },
    {
     "name": "stdout",
     "output_type": "stream",
     "text": [
      "1431.1\n",
      "44\n"
     ]
    },
    {
     "name": "stderr",
     "output_type": "stream",
     "text": [
      "2020-05-22 13:00:25 DESKTOP-OCEF6E1 root[9272] INFO model_debug_50: USELESS\n",
      "\n"
     ]
    },
    {
     "name": "stdout",
     "output_type": "stream",
     "text": [
      "54\n"
     ]
    },
    {
     "name": "stderr",
     "output_type": "stream",
     "text": [
      "2020-05-22 13:00:25 DESKTOP-OCEF6E1 selenium.webdriver.remote.remote_connection[9272] DEBUG POST http://127.0.0.1:53549/session/ec1f55867f1557c357ff78c2590aad7c/refresh {}\n",
      "2020-05-22 13:00:26 DESKTOP-OCEF6E1 urllib3.connectionpool[9272] DEBUG http://127.0.0.1:53549 \"POST /session/ec1f55867f1557c357ff78c2590aad7c/refresh HTTP/1.1\" 200 14\n",
      "2020-05-22 13:00:26 DESKTOP-OCEF6E1 selenium.webdriver.remote.remote_connection[9272] DEBUG Finished Request\n",
      "2020-05-22 13:00:41 DESKTOP-OCEF6E1 selenium.webdriver.remote.remote_connection[9272] DEBUG GET http://127.0.0.1:53549/session/ec1f55867f1557c357ff78c2590aad7c/source {}\n",
      "2020-05-22 13:00:41 DESKTOP-OCEF6E1 urllib3.connectionpool[9272] DEBUG http://127.0.0.1:53549 \"GET /session/ec1f55867f1557c357ff78c2590aad7c/source HTTP/1.1\" 200 886978\n",
      "2020-05-22 13:00:41 DESKTOP-OCEF6E1 selenium.webdriver.remote.remote_connection[9272] DEBUG Finished Request\n"
     ]
    },
    {
     "name": "stdout",
     "output_type": "stream",
     "text": [
      "1431.75\n",
      "45\n"
     ]
    },
    {
     "name": "stderr",
     "output_type": "stream",
     "text": [
      "2020-05-22 13:00:42 DESKTOP-OCEF6E1 root[9272] INFO model_debug_50: USELESS\n",
      "\n"
     ]
    },
    {
     "name": "stdout",
     "output_type": "stream",
     "text": [
      "55\n"
     ]
    },
    {
     "name": "stderr",
     "output_type": "stream",
     "text": [
      "2020-05-22 13:00:42 DESKTOP-OCEF6E1 selenium.webdriver.remote.remote_connection[9272] DEBUG POST http://127.0.0.1:53549/session/ec1f55867f1557c357ff78c2590aad7c/refresh {}\n",
      "2020-05-22 13:00:43 DESKTOP-OCEF6E1 urllib3.connectionpool[9272] DEBUG http://127.0.0.1:53549 \"POST /session/ec1f55867f1557c357ff78c2590aad7c/refresh HTTP/1.1\" 200 14\n",
      "2020-05-22 13:00:43 DESKTOP-OCEF6E1 selenium.webdriver.remote.remote_connection[9272] DEBUG Finished Request\n",
      "2020-05-22 13:00:58 DESKTOP-OCEF6E1 selenium.webdriver.remote.remote_connection[9272] DEBUG GET http://127.0.0.1:53549/session/ec1f55867f1557c357ff78c2590aad7c/source {}\n",
      "2020-05-22 13:00:58 DESKTOP-OCEF6E1 urllib3.connectionpool[9272] DEBUG http://127.0.0.1:53549 \"GET /session/ec1f55867f1557c357ff78c2590aad7c/source HTTP/1.1\" 200 886913\n",
      "2020-05-22 13:00:58 DESKTOP-OCEF6E1 selenium.webdriver.remote.remote_connection[9272] DEBUG Finished Request\n"
     ]
    },
    {
     "name": "stdout",
     "output_type": "stream",
     "text": [
      "1432.0\n",
      "46\n"
     ]
    },
    {
     "name": "stderr",
     "output_type": "stream",
     "text": [
      "2020-05-22 13:00:59 DESKTOP-OCEF6E1 root[9272] INFO model_debug_50: USELESS\n",
      "\n"
     ]
    },
    {
     "name": "stdout",
     "output_type": "stream",
     "text": [
      "56\n"
     ]
    },
    {
     "name": "stderr",
     "output_type": "stream",
     "text": [
      "2020-05-22 13:00:59 DESKTOP-OCEF6E1 selenium.webdriver.remote.remote_connection[9272] DEBUG POST http://127.0.0.1:53549/session/ec1f55867f1557c357ff78c2590aad7c/refresh {}\n",
      "2020-05-22 13:01:00 DESKTOP-OCEF6E1 urllib3.connectionpool[9272] DEBUG http://127.0.0.1:53549 \"POST /session/ec1f55867f1557c357ff78c2590aad7c/refresh HTTP/1.1\" 200 14\n",
      "2020-05-22 13:01:00 DESKTOP-OCEF6E1 selenium.webdriver.remote.remote_connection[9272] DEBUG Finished Request\n",
      "2020-05-22 13:01:15 DESKTOP-OCEF6E1 selenium.webdriver.remote.remote_connection[9272] DEBUG GET http://127.0.0.1:53549/session/ec1f55867f1557c357ff78c2590aad7c/source {}\n",
      "2020-05-22 13:01:16 DESKTOP-OCEF6E1 urllib3.connectionpool[9272] DEBUG http://127.0.0.1:53549 \"GET /session/ec1f55867f1557c357ff78c2590aad7c/source HTTP/1.1\" 200 886956\n",
      "2020-05-22 13:01:16 DESKTOP-OCEF6E1 selenium.webdriver.remote.remote_connection[9272] DEBUG Finished Request\n"
     ]
    },
    {
     "name": "stdout",
     "output_type": "stream",
     "text": [
      "1431.5\n",
      "47\n"
     ]
    },
    {
     "name": "stderr",
     "output_type": "stream",
     "text": [
      "2020-05-22 13:01:17 DESKTOP-OCEF6E1 root[9272] INFO model_debug_50: USELESS\n",
      "\n"
     ]
    },
    {
     "name": "stdout",
     "output_type": "stream",
     "text": [
      "57\n"
     ]
    },
    {
     "name": "stderr",
     "output_type": "stream",
     "text": [
      "2020-05-22 13:01:17 DESKTOP-OCEF6E1 selenium.webdriver.remote.remote_connection[9272] DEBUG POST http://127.0.0.1:53549/session/ec1f55867f1557c357ff78c2590aad7c/refresh {}\n",
      "2020-05-22 13:01:18 DESKTOP-OCEF6E1 urllib3.connectionpool[9272] DEBUG http://127.0.0.1:53549 \"POST /session/ec1f55867f1557c357ff78c2590aad7c/refresh HTTP/1.1\" 200 14\n",
      "2020-05-22 13:01:18 DESKTOP-OCEF6E1 selenium.webdriver.remote.remote_connection[9272] DEBUG Finished Request\n",
      "2020-05-22 13:01:33 DESKTOP-OCEF6E1 selenium.webdriver.remote.remote_connection[9272] DEBUG GET http://127.0.0.1:53549/session/ec1f55867f1557c357ff78c2590aad7c/source {}\n",
      "2020-05-22 13:01:33 DESKTOP-OCEF6E1 urllib3.connectionpool[9272] DEBUG http://127.0.0.1:53549 \"GET /session/ec1f55867f1557c357ff78c2590aad7c/source HTTP/1.1\" 200 887008\n",
      "2020-05-22 13:01:33 DESKTOP-OCEF6E1 selenium.webdriver.remote.remote_connection[9272] DEBUG Finished Request\n"
     ]
    },
    {
     "name": "stdout",
     "output_type": "stream",
     "text": [
      "1432.0\n",
      "48\n"
     ]
    },
    {
     "name": "stderr",
     "output_type": "stream",
     "text": [
      "2020-05-22 13:01:34 DESKTOP-OCEF6E1 root[9272] INFO model_debug_50: USELESS\n",
      "\n"
     ]
    },
    {
     "name": "stdout",
     "output_type": "stream",
     "text": [
      "58\n"
     ]
    },
    {
     "name": "stderr",
     "output_type": "stream",
     "text": [
      "2020-05-22 13:01:34 DESKTOP-OCEF6E1 selenium.webdriver.remote.remote_connection[9272] DEBUG POST http://127.0.0.1:53549/session/ec1f55867f1557c357ff78c2590aad7c/refresh {}\n",
      "2020-05-22 13:01:35 DESKTOP-OCEF6E1 urllib3.connectionpool[9272] DEBUG http://127.0.0.1:53549 \"POST /session/ec1f55867f1557c357ff78c2590aad7c/refresh HTTP/1.1\" 200 14\n",
      "2020-05-22 13:01:35 DESKTOP-OCEF6E1 selenium.webdriver.remote.remote_connection[9272] DEBUG Finished Request\n",
      "2020-05-22 13:01:50 DESKTOP-OCEF6E1 selenium.webdriver.remote.remote_connection[9272] DEBUG GET http://127.0.0.1:53549/session/ec1f55867f1557c357ff78c2590aad7c/source {}\n",
      "2020-05-22 13:01:50 DESKTOP-OCEF6E1 urllib3.connectionpool[9272] DEBUG http://127.0.0.1:53549 \"GET /session/ec1f55867f1557c357ff78c2590aad7c/source HTTP/1.1\" 200 886974\n",
      "2020-05-22 13:01:50 DESKTOP-OCEF6E1 selenium.webdriver.remote.remote_connection[9272] DEBUG Finished Request\n"
     ]
    },
    {
     "name": "stdout",
     "output_type": "stream",
     "text": [
      "1432.0\n",
      "49\n"
     ]
    },
    {
     "name": "stderr",
     "output_type": "stream",
     "text": [
      "2020-05-22 13:01:51 DESKTOP-OCEF6E1 root[9272] INFO model_debug_50: USELESS\n",
      "\n"
     ]
    },
    {
     "name": "stdout",
     "output_type": "stream",
     "text": [
      "59\n"
     ]
    },
    {
     "name": "stderr",
     "output_type": "stream",
     "text": [
      "2020-05-22 13:01:51 DESKTOP-OCEF6E1 selenium.webdriver.remote.remote_connection[9272] DEBUG POST http://127.0.0.1:53549/session/ec1f55867f1557c357ff78c2590aad7c/refresh {}\n",
      "2020-05-22 13:01:52 DESKTOP-OCEF6E1 urllib3.connectionpool[9272] DEBUG http://127.0.0.1:53549 \"POST /session/ec1f55867f1557c357ff78c2590aad7c/refresh HTTP/1.1\" 200 14\n",
      "2020-05-22 13:01:52 DESKTOP-OCEF6E1 selenium.webdriver.remote.remote_connection[9272] DEBUG Finished Request\n",
      "2020-05-22 13:02:07 DESKTOP-OCEF6E1 selenium.webdriver.remote.remote_connection[9272] DEBUG GET http://127.0.0.1:53549/session/ec1f55867f1557c357ff78c2590aad7c/source {}\n",
      "2020-05-22 13:02:08 DESKTOP-OCEF6E1 urllib3.connectionpool[9272] DEBUG http://127.0.0.1:53549 \"GET /session/ec1f55867f1557c357ff78c2590aad7c/source HTTP/1.1\" 200 886975\n",
      "2020-05-22 13:02:08 DESKTOP-OCEF6E1 selenium.webdriver.remote.remote_connection[9272] DEBUG Finished Request\n"
     ]
    },
    {
     "name": "stdout",
     "output_type": "stream",
     "text": [
      "1432.35\n",
      "50\n"
     ]
    },
    {
     "name": "stderr",
     "output_type": "stream",
     "text": [
      "2020-05-22 13:02:09 DESKTOP-OCEF6E1 root[9272] INFO model_debug_50: USELESS\n",
      "\n"
     ]
    },
    {
     "name": "stdout",
     "output_type": "stream",
     "text": [
      "60\n"
     ]
    },
    {
     "name": "stderr",
     "output_type": "stream",
     "text": [
      "2020-05-22 13:02:09 DESKTOP-OCEF6E1 selenium.webdriver.remote.remote_connection[9272] DEBUG POST http://127.0.0.1:53549/session/ec1f55867f1557c357ff78c2590aad7c/refresh {}\n",
      "2020-05-22 13:02:10 DESKTOP-OCEF6E1 urllib3.connectionpool[9272] DEBUG http://127.0.0.1:53549 \"POST /session/ec1f55867f1557c357ff78c2590aad7c/refresh HTTP/1.1\" 200 14\n",
      "2020-05-22 13:02:10 DESKTOP-OCEF6E1 selenium.webdriver.remote.remote_connection[9272] DEBUG Finished Request\n",
      "2020-05-22 13:02:25 DESKTOP-OCEF6E1 selenium.webdriver.remote.remote_connection[9272] DEBUG GET http://127.0.0.1:53549/session/ec1f55867f1557c357ff78c2590aad7c/source {}\n",
      "2020-05-22 13:02:25 DESKTOP-OCEF6E1 urllib3.connectionpool[9272] DEBUG http://127.0.0.1:53549 \"GET /session/ec1f55867f1557c357ff78c2590aad7c/source HTTP/1.1\" 200 886997\n",
      "2020-05-22 13:02:25 DESKTOP-OCEF6E1 selenium.webdriver.remote.remote_connection[9272] DEBUG Finished Request\n"
     ]
    },
    {
     "name": "stdout",
     "output_type": "stream",
     "text": [
      "1432.25\n",
      "51\n"
     ]
    },
    {
     "name": "stderr",
     "output_type": "stream",
     "text": [
      "2020-05-22 13:02:26 DESKTOP-OCEF6E1 root[9272] INFO model_debug_50: USELESS\n",
      "\n"
     ]
    },
    {
     "name": "stdout",
     "output_type": "stream",
     "text": [
      "61\n"
     ]
    },
    {
     "name": "stderr",
     "output_type": "stream",
     "text": [
      "2020-05-22 13:02:26 DESKTOP-OCEF6E1 selenium.webdriver.remote.remote_connection[9272] DEBUG POST http://127.0.0.1:53549/session/ec1f55867f1557c357ff78c2590aad7c/refresh {}\n",
      "2020-05-22 13:02:27 DESKTOP-OCEF6E1 urllib3.connectionpool[9272] DEBUG http://127.0.0.1:53549 \"POST /session/ec1f55867f1557c357ff78c2590aad7c/refresh HTTP/1.1\" 200 14\n",
      "2020-05-22 13:02:28 DESKTOP-OCEF6E1 selenium.webdriver.remote.remote_connection[9272] DEBUG Finished Request\n",
      "2020-05-22 13:02:43 DESKTOP-OCEF6E1 selenium.webdriver.remote.remote_connection[9272] DEBUG GET http://127.0.0.1:53549/session/ec1f55867f1557c357ff78c2590aad7c/source {}\n",
      "2020-05-22 13:02:43 DESKTOP-OCEF6E1 urllib3.connectionpool[9272] DEBUG http://127.0.0.1:53549 \"GET /session/ec1f55867f1557c357ff78c2590aad7c/source HTTP/1.1\" 200 886982\n",
      "2020-05-22 13:02:43 DESKTOP-OCEF6E1 selenium.webdriver.remote.remote_connection[9272] DEBUG Finished Request\n"
     ]
    },
    {
     "name": "stdout",
     "output_type": "stream",
     "text": [
      "1432.5\n",
      "52\n"
     ]
    },
    {
     "name": "stderr",
     "output_type": "stream",
     "text": [
      "2020-05-22 13:02:44 DESKTOP-OCEF6E1 root[9272] INFO model_debug_50: USELESS\n",
      "\n"
     ]
    },
    {
     "name": "stdout",
     "output_type": "stream",
     "text": [
      "62\n"
     ]
    },
    {
     "name": "stderr",
     "output_type": "stream",
     "text": [
      "2020-05-22 13:02:44 DESKTOP-OCEF6E1 selenium.webdriver.remote.remote_connection[9272] DEBUG POST http://127.0.0.1:53549/session/ec1f55867f1557c357ff78c2590aad7c/refresh {}\n",
      "2020-05-22 13:02:46 DESKTOP-OCEF6E1 urllib3.connectionpool[9272] DEBUG http://127.0.0.1:53549 \"POST /session/ec1f55867f1557c357ff78c2590aad7c/refresh HTTP/1.1\" 200 14\n",
      "2020-05-22 13:02:46 DESKTOP-OCEF6E1 selenium.webdriver.remote.remote_connection[9272] DEBUG Finished Request\n",
      "2020-05-22 13:03:01 DESKTOP-OCEF6E1 selenium.webdriver.remote.remote_connection[9272] DEBUG GET http://127.0.0.1:53549/session/ec1f55867f1557c357ff78c2590aad7c/source {}\n",
      "2020-05-22 13:03:01 DESKTOP-OCEF6E1 urllib3.connectionpool[9272] DEBUG http://127.0.0.1:53549 \"GET /session/ec1f55867f1557c357ff78c2590aad7c/source HTTP/1.1\" 200 887202\n",
      "2020-05-22 13:03:01 DESKTOP-OCEF6E1 selenium.webdriver.remote.remote_connection[9272] DEBUG Finished Request\n"
     ]
    },
    {
     "name": "stdout",
     "output_type": "stream",
     "text": [
      "1432.25\n",
      "53\n"
     ]
    },
    {
     "name": "stderr",
     "output_type": "stream",
     "text": [
      "2020-05-22 13:03:02 DESKTOP-OCEF6E1 root[9272] INFO model_debug_50: USELESS\n",
      "\n"
     ]
    },
    {
     "name": "stdout",
     "output_type": "stream",
     "text": [
      "63\n"
     ]
    },
    {
     "name": "stderr",
     "output_type": "stream",
     "text": [
      "2020-05-22 13:03:02 DESKTOP-OCEF6E1 selenium.webdriver.remote.remote_connection[9272] DEBUG POST http://127.0.0.1:53549/session/ec1f55867f1557c357ff78c2590aad7c/refresh {}\n",
      "2020-05-22 13:03:03 DESKTOP-OCEF6E1 urllib3.connectionpool[9272] DEBUG http://127.0.0.1:53549 \"POST /session/ec1f55867f1557c357ff78c2590aad7c/refresh HTTP/1.1\" 200 14\n",
      "2020-05-22 13:03:03 DESKTOP-OCEF6E1 selenium.webdriver.remote.remote_connection[9272] DEBUG Finished Request\n",
      "2020-05-22 13:03:18 DESKTOP-OCEF6E1 selenium.webdriver.remote.remote_connection[9272] DEBUG GET http://127.0.0.1:53549/session/ec1f55867f1557c357ff78c2590aad7c/source {}\n",
      "2020-05-22 13:03:18 DESKTOP-OCEF6E1 urllib3.connectionpool[9272] DEBUG http://127.0.0.1:53549 \"GET /session/ec1f55867f1557c357ff78c2590aad7c/source HTTP/1.1\" 200 887199\n",
      "2020-05-22 13:03:18 DESKTOP-OCEF6E1 selenium.webdriver.remote.remote_connection[9272] DEBUG Finished Request\n"
     ]
    },
    {
     "name": "stdout",
     "output_type": "stream",
     "text": [
      "1431.8\n",
      "54\n"
     ]
    },
    {
     "name": "stderr",
     "output_type": "stream",
     "text": [
      "2020-05-22 13:03:19 DESKTOP-OCEF6E1 root[9272] INFO model_debug_50: USELESS\n",
      "\n"
     ]
    },
    {
     "name": "stdout",
     "output_type": "stream",
     "text": [
      "64\n"
     ]
    },
    {
     "name": "stderr",
     "output_type": "stream",
     "text": [
      "2020-05-22 13:03:19 DESKTOP-OCEF6E1 selenium.webdriver.remote.remote_connection[9272] DEBUG POST http://127.0.0.1:53549/session/ec1f55867f1557c357ff78c2590aad7c/refresh {}\n",
      "2020-05-22 13:03:20 DESKTOP-OCEF6E1 urllib3.connectionpool[9272] DEBUG http://127.0.0.1:53549 \"POST /session/ec1f55867f1557c357ff78c2590aad7c/refresh HTTP/1.1\" 200 14\n",
      "2020-05-22 13:03:20 DESKTOP-OCEF6E1 selenium.webdriver.remote.remote_connection[9272] DEBUG Finished Request\n",
      "2020-05-22 13:03:35 DESKTOP-OCEF6E1 selenium.webdriver.remote.remote_connection[9272] DEBUG GET http://127.0.0.1:53549/session/ec1f55867f1557c357ff78c2590aad7c/source {}\n",
      "2020-05-22 13:03:36 DESKTOP-OCEF6E1 urllib3.connectionpool[9272] DEBUG http://127.0.0.1:53549 \"GET /session/ec1f55867f1557c357ff78c2590aad7c/source HTTP/1.1\" 200 886937\n",
      "2020-05-22 13:03:36 DESKTOP-OCEF6E1 selenium.webdriver.remote.remote_connection[9272] DEBUG Finished Request\n"
     ]
    },
    {
     "name": "stdout",
     "output_type": "stream",
     "text": [
      "1432.2\n",
      "55\n"
     ]
    },
    {
     "name": "stderr",
     "output_type": "stream",
     "text": [
      "2020-05-22 13:03:36 DESKTOP-OCEF6E1 root[9272] INFO model_debug_50: USELESS\n",
      "\n"
     ]
    },
    {
     "name": "stdout",
     "output_type": "stream",
     "text": [
      "65\n"
     ]
    },
    {
     "name": "stderr",
     "output_type": "stream",
     "text": [
      "2020-05-22 13:03:36 DESKTOP-OCEF6E1 selenium.webdriver.remote.remote_connection[9272] DEBUG POST http://127.0.0.1:53549/session/ec1f55867f1557c357ff78c2590aad7c/refresh {}\n",
      "2020-05-22 13:03:37 DESKTOP-OCEF6E1 urllib3.connectionpool[9272] DEBUG http://127.0.0.1:53549 \"POST /session/ec1f55867f1557c357ff78c2590aad7c/refresh HTTP/1.1\" 200 14\n",
      "2020-05-22 13:03:38 DESKTOP-OCEF6E1 selenium.webdriver.remote.remote_connection[9272] DEBUG Finished Request\n",
      "2020-05-22 13:03:53 DESKTOP-OCEF6E1 selenium.webdriver.remote.remote_connection[9272] DEBUG GET http://127.0.0.1:53549/session/ec1f55867f1557c357ff78c2590aad7c/source {}\n",
      "2020-05-22 13:03:53 DESKTOP-OCEF6E1 urllib3.connectionpool[9272] DEBUG http://127.0.0.1:53549 \"GET /session/ec1f55867f1557c357ff78c2590aad7c/source HTTP/1.1\" 200 887027\n",
      "2020-05-22 13:03:53 DESKTOP-OCEF6E1 selenium.webdriver.remote.remote_connection[9272] DEBUG Finished Request\n"
     ]
    },
    {
     "name": "stdout",
     "output_type": "stream",
     "text": [
      "1431.65\n",
      "56\n"
     ]
    },
    {
     "name": "stderr",
     "output_type": "stream",
     "text": [
      "2020-05-22 13:03:54 DESKTOP-OCEF6E1 root[9272] INFO model_debug_50: USELESS\n",
      "\n"
     ]
    },
    {
     "name": "stdout",
     "output_type": "stream",
     "text": [
      "66\n"
     ]
    },
    {
     "name": "stderr",
     "output_type": "stream",
     "text": [
      "2020-05-22 13:03:54 DESKTOP-OCEF6E1 selenium.webdriver.remote.remote_connection[9272] DEBUG POST http://127.0.0.1:53549/session/ec1f55867f1557c357ff78c2590aad7c/refresh {}\n",
      "2020-05-22 13:03:55 DESKTOP-OCEF6E1 urllib3.connectionpool[9272] DEBUG http://127.0.0.1:53549 \"POST /session/ec1f55867f1557c357ff78c2590aad7c/refresh HTTP/1.1\" 200 14\n",
      "2020-05-22 13:03:55 DESKTOP-OCEF6E1 selenium.webdriver.remote.remote_connection[9272] DEBUG Finished Request\n",
      "2020-05-22 13:04:10 DESKTOP-OCEF6E1 selenium.webdriver.remote.remote_connection[9272] DEBUG GET http://127.0.0.1:53549/session/ec1f55867f1557c357ff78c2590aad7c/source {}\n",
      "2020-05-22 13:04:10 DESKTOP-OCEF6E1 urllib3.connectionpool[9272] DEBUG http://127.0.0.1:53549 \"GET /session/ec1f55867f1557c357ff78c2590aad7c/source HTTP/1.1\" 200 886892\n",
      "2020-05-22 13:04:10 DESKTOP-OCEF6E1 selenium.webdriver.remote.remote_connection[9272] DEBUG Finished Request\n"
     ]
    },
    {
     "name": "stdout",
     "output_type": "stream",
     "text": [
      "1431.8\n",
      "57\n"
     ]
    },
    {
     "name": "stderr",
     "output_type": "stream",
     "text": [
      "2020-05-22 13:04:11 DESKTOP-OCEF6E1 root[9272] INFO model_debug_50: USELESS\n",
      "\n"
     ]
    },
    {
     "name": "stdout",
     "output_type": "stream",
     "text": [
      "67\n"
     ]
    },
    {
     "name": "stderr",
     "output_type": "stream",
     "text": [
      "2020-05-22 13:04:11 DESKTOP-OCEF6E1 selenium.webdriver.remote.remote_connection[9272] DEBUG POST http://127.0.0.1:53549/session/ec1f55867f1557c357ff78c2590aad7c/refresh {}\n",
      "2020-05-22 13:04:12 DESKTOP-OCEF6E1 urllib3.connectionpool[9272] DEBUG http://127.0.0.1:53549 \"POST /session/ec1f55867f1557c357ff78c2590aad7c/refresh HTTP/1.1\" 200 14\n",
      "2020-05-22 13:04:12 DESKTOP-OCEF6E1 selenium.webdriver.remote.remote_connection[9272] DEBUG Finished Request\n",
      "2020-05-22 13:04:27 DESKTOP-OCEF6E1 selenium.webdriver.remote.remote_connection[9272] DEBUG GET http://127.0.0.1:53549/session/ec1f55867f1557c357ff78c2590aad7c/source {}\n",
      "2020-05-22 13:04:27 DESKTOP-OCEF6E1 urllib3.connectionpool[9272] DEBUG http://127.0.0.1:53549 \"GET /session/ec1f55867f1557c357ff78c2590aad7c/source HTTP/1.1\" 200 886975\n",
      "2020-05-22 13:04:27 DESKTOP-OCEF6E1 selenium.webdriver.remote.remote_connection[9272] DEBUG Finished Request\n"
     ]
    },
    {
     "name": "stdout",
     "output_type": "stream",
     "text": [
      "1432.05\n",
      "58\n"
     ]
    },
    {
     "name": "stderr",
     "output_type": "stream",
     "text": [
      "2020-05-22 13:04:28 DESKTOP-OCEF6E1 root[9272] INFO model_debug_50: USELESS\n",
      "\n"
     ]
    },
    {
     "name": "stdout",
     "output_type": "stream",
     "text": [
      "68\n"
     ]
    },
    {
     "name": "stderr",
     "output_type": "stream",
     "text": [
      "2020-05-22 13:04:28 DESKTOP-OCEF6E1 selenium.webdriver.remote.remote_connection[9272] DEBUG POST http://127.0.0.1:53549/session/ec1f55867f1557c357ff78c2590aad7c/refresh {}\n",
      "2020-05-22 13:04:29 DESKTOP-OCEF6E1 urllib3.connectionpool[9272] DEBUG http://127.0.0.1:53549 \"POST /session/ec1f55867f1557c357ff78c2590aad7c/refresh HTTP/1.1\" 200 14\n",
      "2020-05-22 13:04:29 DESKTOP-OCEF6E1 selenium.webdriver.remote.remote_connection[9272] DEBUG Finished Request\n",
      "2020-05-22 13:04:44 DESKTOP-OCEF6E1 selenium.webdriver.remote.remote_connection[9272] DEBUG GET http://127.0.0.1:53549/session/ec1f55867f1557c357ff78c2590aad7c/source {}\n",
      "2020-05-22 13:04:44 DESKTOP-OCEF6E1 urllib3.connectionpool[9272] DEBUG http://127.0.0.1:53549 \"GET /session/ec1f55867f1557c357ff78c2590aad7c/source HTTP/1.1\" 200 888185\n",
      "2020-05-22 13:04:44 DESKTOP-OCEF6E1 selenium.webdriver.remote.remote_connection[9272] DEBUG Finished Request\n"
     ]
    },
    {
     "name": "stdout",
     "output_type": "stream",
     "text": [
      "1432.25\n",
      "59\n"
     ]
    },
    {
     "name": "stderr",
     "output_type": "stream",
     "text": [
      "2020-05-22 13:04:45 DESKTOP-OCEF6E1 root[9272] INFO model_debug_50: USELESS\n",
      "\n"
     ]
    },
    {
     "name": "stdout",
     "output_type": "stream",
     "text": [
      "69\n"
     ]
    },
    {
     "name": "stderr",
     "output_type": "stream",
     "text": [
      "2020-05-22 13:04:45 DESKTOP-OCEF6E1 selenium.webdriver.remote.remote_connection[9272] DEBUG POST http://127.0.0.1:53549/session/ec1f55867f1557c357ff78c2590aad7c/refresh {}\n",
      "2020-05-22 13:04:46 DESKTOP-OCEF6E1 urllib3.connectionpool[9272] DEBUG http://127.0.0.1:53549 \"POST /session/ec1f55867f1557c357ff78c2590aad7c/refresh HTTP/1.1\" 200 14\n",
      "2020-05-22 13:04:46 DESKTOP-OCEF6E1 selenium.webdriver.remote.remote_connection[9272] DEBUG Finished Request\n",
      "2020-05-22 13:05:01 DESKTOP-OCEF6E1 selenium.webdriver.remote.remote_connection[9272] DEBUG GET http://127.0.0.1:53549/session/ec1f55867f1557c357ff78c2590aad7c/source {}\n",
      "2020-05-22 13:05:01 DESKTOP-OCEF6E1 urllib3.connectionpool[9272] DEBUG http://127.0.0.1:53549 \"GET /session/ec1f55867f1557c357ff78c2590aad7c/source HTTP/1.1\" 200 887078\n",
      "2020-05-22 13:05:01 DESKTOP-OCEF6E1 selenium.webdriver.remote.remote_connection[9272] DEBUG Finished Request\n"
     ]
    },
    {
     "name": "stdout",
     "output_type": "stream",
     "text": [
      "1431.0\n",
      "60\n"
     ]
    },
    {
     "name": "stderr",
     "output_type": "stream",
     "text": [
      "2020-05-22 13:05:02 DESKTOP-OCEF6E1 root[9272] INFO model_debug_50: USELESS\n",
      "\n"
     ]
    },
    {
     "name": "stdout",
     "output_type": "stream",
     "text": [
      "70\n"
     ]
    },
    {
     "name": "stderr",
     "output_type": "stream",
     "text": [
      "2020-05-22 13:05:02 DESKTOP-OCEF6E1 selenium.webdriver.remote.remote_connection[9272] DEBUG POST http://127.0.0.1:53549/session/ec1f55867f1557c357ff78c2590aad7c/refresh {}\n",
      "2020-05-22 13:05:03 DESKTOP-OCEF6E1 urllib3.connectionpool[9272] DEBUG http://127.0.0.1:53549 \"POST /session/ec1f55867f1557c357ff78c2590aad7c/refresh HTTP/1.1\" 200 14\n",
      "2020-05-22 13:05:03 DESKTOP-OCEF6E1 selenium.webdriver.remote.remote_connection[9272] DEBUG Finished Request\n",
      "2020-05-22 13:05:19 DESKTOP-OCEF6E1 selenium.webdriver.remote.remote_connection[9272] DEBUG GET http://127.0.0.1:53549/session/ec1f55867f1557c357ff78c2590aad7c/source {}\n",
      "2020-05-22 13:05:19 DESKTOP-OCEF6E1 urllib3.connectionpool[9272] DEBUG http://127.0.0.1:53549 \"GET /session/ec1f55867f1557c357ff78c2590aad7c/source HTTP/1.1\" 200 888016\n",
      "2020-05-22 13:05:19 DESKTOP-OCEF6E1 selenium.webdriver.remote.remote_connection[9272] DEBUG Finished Request\n"
     ]
    },
    {
     "name": "stdout",
     "output_type": "stream",
     "text": [
      "1431.8\n",
      "61\n"
     ]
    },
    {
     "name": "stderr",
     "output_type": "stream",
     "text": [
      "2020-05-22 13:05:20 DESKTOP-OCEF6E1 root[9272] INFO model_debug_50: USELESS\n",
      "\n"
     ]
    },
    {
     "name": "stdout",
     "output_type": "stream",
     "text": [
      "71\n"
     ]
    },
    {
     "name": "stderr",
     "output_type": "stream",
     "text": [
      "2020-05-22 13:05:20 DESKTOP-OCEF6E1 selenium.webdriver.remote.remote_connection[9272] DEBUG POST http://127.0.0.1:53549/session/ec1f55867f1557c357ff78c2590aad7c/refresh {}\n",
      "2020-05-22 13:05:23 DESKTOP-OCEF6E1 urllib3.connectionpool[9272] DEBUG http://127.0.0.1:53549 \"POST /session/ec1f55867f1557c357ff78c2590aad7c/refresh HTTP/1.1\" 200 14\n",
      "2020-05-22 13:05:23 DESKTOP-OCEF6E1 selenium.webdriver.remote.remote_connection[9272] DEBUG Finished Request\n",
      "2020-05-22 13:05:38 DESKTOP-OCEF6E1 selenium.webdriver.remote.remote_connection[9272] DEBUG GET http://127.0.0.1:53549/session/ec1f55867f1557c357ff78c2590aad7c/source {}\n",
      "2020-05-22 13:05:38 DESKTOP-OCEF6E1 urllib3.connectionpool[9272] DEBUG http://127.0.0.1:53549 \"GET /session/ec1f55867f1557c357ff78c2590aad7c/source HTTP/1.1\" 200 888046\n",
      "2020-05-22 13:05:38 DESKTOP-OCEF6E1 selenium.webdriver.remote.remote_connection[9272] DEBUG Finished Request\n"
     ]
    },
    {
     "name": "stdout",
     "output_type": "stream",
     "text": [
      "1432.25\n",
      "62\n"
     ]
    },
    {
     "name": "stderr",
     "output_type": "stream",
     "text": [
      "2020-05-22 13:05:39 DESKTOP-OCEF6E1 root[9272] INFO model_debug_50: USELESS\n",
      "\n"
     ]
    },
    {
     "name": "stdout",
     "output_type": "stream",
     "text": [
      "72\n"
     ]
    },
    {
     "name": "stderr",
     "output_type": "stream",
     "text": [
      "2020-05-22 13:05:39 DESKTOP-OCEF6E1 selenium.webdriver.remote.remote_connection[9272] DEBUG POST http://127.0.0.1:53549/session/ec1f55867f1557c357ff78c2590aad7c/refresh {}\n",
      "2020-05-22 13:05:41 DESKTOP-OCEF6E1 urllib3.connectionpool[9272] DEBUG http://127.0.0.1:53549 \"POST /session/ec1f55867f1557c357ff78c2590aad7c/refresh HTTP/1.1\" 200 14\n",
      "2020-05-22 13:05:41 DESKTOP-OCEF6E1 selenium.webdriver.remote.remote_connection[9272] DEBUG Finished Request\n",
      "2020-05-22 13:05:56 DESKTOP-OCEF6E1 selenium.webdriver.remote.remote_connection[9272] DEBUG GET http://127.0.0.1:53549/session/ec1f55867f1557c357ff78c2590aad7c/source {}\n",
      "2020-05-22 13:05:56 DESKTOP-OCEF6E1 urllib3.connectionpool[9272] DEBUG http://127.0.0.1:53549 \"GET /session/ec1f55867f1557c357ff78c2590aad7c/source HTTP/1.1\" 200 887058\n",
      "2020-05-22 13:05:56 DESKTOP-OCEF6E1 selenium.webdriver.remote.remote_connection[9272] DEBUG Finished Request\n"
     ]
    },
    {
     "name": "stdout",
     "output_type": "stream",
     "text": [
      "1432.25\n",
      "63\n"
     ]
    },
    {
     "name": "stderr",
     "output_type": "stream",
     "text": [
      "2020-05-22 13:05:57 DESKTOP-OCEF6E1 root[9272] INFO model_debug_50: USELESS\n",
      "\n"
     ]
    },
    {
     "name": "stdout",
     "output_type": "stream",
     "text": [
      "73\n"
     ]
    },
    {
     "name": "stderr",
     "output_type": "stream",
     "text": [
      "2020-05-22 13:05:57 DESKTOP-OCEF6E1 selenium.webdriver.remote.remote_connection[9272] DEBUG POST http://127.0.0.1:53549/session/ec1f55867f1557c357ff78c2590aad7c/refresh {}\n",
      "2020-05-22 13:05:59 DESKTOP-OCEF6E1 urllib3.connectionpool[9272] DEBUG http://127.0.0.1:53549 \"POST /session/ec1f55867f1557c357ff78c2590aad7c/refresh HTTP/1.1\" 200 14\n",
      "2020-05-22 13:05:59 DESKTOP-OCEF6E1 selenium.webdriver.remote.remote_connection[9272] DEBUG Finished Request\n",
      "2020-05-22 13:06:14 DESKTOP-OCEF6E1 selenium.webdriver.remote.remote_connection[9272] DEBUG GET http://127.0.0.1:53549/session/ec1f55867f1557c357ff78c2590aad7c/source {}\n",
      "2020-05-22 13:06:14 DESKTOP-OCEF6E1 urllib3.connectionpool[9272] DEBUG http://127.0.0.1:53549 \"GET /session/ec1f55867f1557c357ff78c2590aad7c/source HTTP/1.1\" 200 887014\n",
      "2020-05-22 13:06:14 DESKTOP-OCEF6E1 selenium.webdriver.remote.remote_connection[9272] DEBUG Finished Request\n"
     ]
    },
    {
     "name": "stdout",
     "output_type": "stream",
     "text": [
      "1433.7\n",
      "64\n"
     ]
    },
    {
     "name": "stderr",
     "output_type": "stream",
     "text": [
      "2020-05-22 13:06:15 DESKTOP-OCEF6E1 root[9272] INFO model_debug_50: USELESS\n",
      "\n"
     ]
    },
    {
     "name": "stdout",
     "output_type": "stream",
     "text": [
      "74\n"
     ]
    },
    {
     "name": "stderr",
     "output_type": "stream",
     "text": [
      "2020-05-22 13:06:15 DESKTOP-OCEF6E1 selenium.webdriver.remote.remote_connection[9272] DEBUG POST http://127.0.0.1:53549/session/ec1f55867f1557c357ff78c2590aad7c/refresh {}\n",
      "2020-05-22 13:06:16 DESKTOP-OCEF6E1 urllib3.connectionpool[9272] DEBUG http://127.0.0.1:53549 \"POST /session/ec1f55867f1557c357ff78c2590aad7c/refresh HTTP/1.1\" 200 14\n",
      "2020-05-22 13:06:16 DESKTOP-OCEF6E1 selenium.webdriver.remote.remote_connection[9272] DEBUG Finished Request\n",
      "2020-05-22 13:06:31 DESKTOP-OCEF6E1 selenium.webdriver.remote.remote_connection[9272] DEBUG GET http://127.0.0.1:53549/session/ec1f55867f1557c357ff78c2590aad7c/source {}\n",
      "2020-05-22 13:06:32 DESKTOP-OCEF6E1 urllib3.connectionpool[9272] DEBUG http://127.0.0.1:53549 \"GET /session/ec1f55867f1557c357ff78c2590aad7c/source HTTP/1.1\" 200 887146\n",
      "2020-05-22 13:06:32 DESKTOP-OCEF6E1 selenium.webdriver.remote.remote_connection[9272] DEBUG Finished Request\n"
     ]
    },
    {
     "name": "stdout",
     "output_type": "stream",
     "text": [
      "1434.7\n",
      "65\n"
     ]
    },
    {
     "name": "stderr",
     "output_type": "stream",
     "text": [
      "2020-05-22 13:06:32 DESKTOP-OCEF6E1 root[9272] INFO model_debug_50: USELESS\n",
      "\n"
     ]
    },
    {
     "name": "stdout",
     "output_type": "stream",
     "text": [
      "75\n"
     ]
    },
    {
     "name": "stderr",
     "output_type": "stream",
     "text": [
      "2020-05-22 13:06:33 DESKTOP-OCEF6E1 selenium.webdriver.remote.remote_connection[9272] DEBUG POST http://127.0.0.1:53549/session/ec1f55867f1557c357ff78c2590aad7c/refresh {}\n",
      "2020-05-22 13:06:34 DESKTOP-OCEF6E1 urllib3.connectionpool[9272] DEBUG http://127.0.0.1:53549 \"POST /session/ec1f55867f1557c357ff78c2590aad7c/refresh HTTP/1.1\" 200 14\n",
      "2020-05-22 13:06:34 DESKTOP-OCEF6E1 selenium.webdriver.remote.remote_connection[9272] DEBUG Finished Request\n",
      "2020-05-22 13:06:49 DESKTOP-OCEF6E1 selenium.webdriver.remote.remote_connection[9272] DEBUG GET http://127.0.0.1:53549/session/ec1f55867f1557c357ff78c2590aad7c/source {}\n",
      "2020-05-22 13:06:49 DESKTOP-OCEF6E1 urllib3.connectionpool[9272] DEBUG http://127.0.0.1:53549 \"GET /session/ec1f55867f1557c357ff78c2590aad7c/source HTTP/1.1\" 200 887028\n",
      "2020-05-22 13:06:49 DESKTOP-OCEF6E1 selenium.webdriver.remote.remote_connection[9272] DEBUG Finished Request\n"
     ]
    },
    {
     "name": "stdout",
     "output_type": "stream",
     "text": [
      "1434.05\n",
      "66\n"
     ]
    },
    {
     "name": "stderr",
     "output_type": "stream",
     "text": [
      "2020-05-22 13:06:50 DESKTOP-OCEF6E1 root[9272] INFO model_debug_50: USELESS\n",
      "\n"
     ]
    },
    {
     "name": "stdout",
     "output_type": "stream",
     "text": [
      "76\n"
     ]
    },
    {
     "name": "stderr",
     "output_type": "stream",
     "text": [
      "2020-05-22 13:06:50 DESKTOP-OCEF6E1 selenium.webdriver.remote.remote_connection[9272] DEBUG POST http://127.0.0.1:53549/session/ec1f55867f1557c357ff78c2590aad7c/refresh {}\n",
      "2020-05-22 13:06:51 DESKTOP-OCEF6E1 urllib3.connectionpool[9272] DEBUG http://127.0.0.1:53549 \"POST /session/ec1f55867f1557c357ff78c2590aad7c/refresh HTTP/1.1\" 200 14\n",
      "2020-05-22 13:06:52 DESKTOP-OCEF6E1 selenium.webdriver.remote.remote_connection[9272] DEBUG Finished Request\n",
      "2020-05-22 13:07:07 DESKTOP-OCEF6E1 selenium.webdriver.remote.remote_connection[9272] DEBUG GET http://127.0.0.1:53549/session/ec1f55867f1557c357ff78c2590aad7c/source {}\n",
      "2020-05-22 13:07:07 DESKTOP-OCEF6E1 urllib3.connectionpool[9272] DEBUG http://127.0.0.1:53549 \"GET /session/ec1f55867f1557c357ff78c2590aad7c/source HTTP/1.1\" 200 885757\n",
      "2020-05-22 13:07:07 DESKTOP-OCEF6E1 selenium.webdriver.remote.remote_connection[9272] DEBUG Finished Request\n"
     ]
    },
    {
     "name": "stdout",
     "output_type": "stream",
     "text": [
      "1434.3\n",
      "67\n"
     ]
    },
    {
     "name": "stderr",
     "output_type": "stream",
     "text": [
      "2020-05-22 13:07:08 DESKTOP-OCEF6E1 root[9272] INFO model_debug_50: USELESS\n",
      "\n"
     ]
    },
    {
     "name": "stdout",
     "output_type": "stream",
     "text": [
      "77\n"
     ]
    },
    {
     "name": "stderr",
     "output_type": "stream",
     "text": [
      "2020-05-22 13:07:08 DESKTOP-OCEF6E1 selenium.webdriver.remote.remote_connection[9272] DEBUG POST http://127.0.0.1:53549/session/ec1f55867f1557c357ff78c2590aad7c/refresh {}\n",
      "2020-05-22 13:07:09 DESKTOP-OCEF6E1 urllib3.connectionpool[9272] DEBUG http://127.0.0.1:53549 \"POST /session/ec1f55867f1557c357ff78c2590aad7c/refresh HTTP/1.1\" 200 14\n",
      "2020-05-22 13:07:09 DESKTOP-OCEF6E1 selenium.webdriver.remote.remote_connection[9272] DEBUG Finished Request\n",
      "2020-05-22 13:07:24 DESKTOP-OCEF6E1 selenium.webdriver.remote.remote_connection[9272] DEBUG GET http://127.0.0.1:53549/session/ec1f55867f1557c357ff78c2590aad7c/source {}\n",
      "2020-05-22 13:07:24 DESKTOP-OCEF6E1 urllib3.connectionpool[9272] DEBUG http://127.0.0.1:53549 \"GET /session/ec1f55867f1557c357ff78c2590aad7c/source HTTP/1.1\" 200 886966\n",
      "2020-05-22 13:07:24 DESKTOP-OCEF6E1 selenium.webdriver.remote.remote_connection[9272] DEBUG Finished Request\n"
     ]
    },
    {
     "name": "stdout",
     "output_type": "stream",
     "text": [
      "1432.6\n",
      "68\n"
     ]
    },
    {
     "name": "stderr",
     "output_type": "stream",
     "text": [
      "2020-05-22 13:07:26 DESKTOP-OCEF6E1 root[9272] INFO model_debug_50: USELESS\n",
      "\n"
     ]
    },
    {
     "name": "stdout",
     "output_type": "stream",
     "text": [
      "78\n"
     ]
    },
    {
     "name": "stderr",
     "output_type": "stream",
     "text": [
      "2020-05-22 13:07:26 DESKTOP-OCEF6E1 selenium.webdriver.remote.remote_connection[9272] DEBUG POST http://127.0.0.1:53549/session/ec1f55867f1557c357ff78c2590aad7c/refresh {}\n",
      "2020-05-22 13:07:27 DESKTOP-OCEF6E1 urllib3.connectionpool[9272] DEBUG http://127.0.0.1:53549 \"POST /session/ec1f55867f1557c357ff78c2590aad7c/refresh HTTP/1.1\" 200 14\n",
      "2020-05-22 13:07:27 DESKTOP-OCEF6E1 selenium.webdriver.remote.remote_connection[9272] DEBUG Finished Request\n",
      "2020-05-22 13:07:42 DESKTOP-OCEF6E1 selenium.webdriver.remote.remote_connection[9272] DEBUG GET http://127.0.0.1:53549/session/ec1f55867f1557c357ff78c2590aad7c/source {}\n",
      "2020-05-22 13:07:42 DESKTOP-OCEF6E1 urllib3.connectionpool[9272] DEBUG http://127.0.0.1:53549 \"GET /session/ec1f55867f1557c357ff78c2590aad7c/source HTTP/1.1\" 200 886978\n",
      "2020-05-22 13:07:42 DESKTOP-OCEF6E1 selenium.webdriver.remote.remote_connection[9272] DEBUG Finished Request\n"
     ]
    },
    {
     "name": "stdout",
     "output_type": "stream",
     "text": [
      "1433.25\n",
      "69\n"
     ]
    },
    {
     "name": "stderr",
     "output_type": "stream",
     "text": [
      "2020-05-22 13:07:43 DESKTOP-OCEF6E1 root[9272] INFO model_debug_50: USELESS\n",
      "\n"
     ]
    },
    {
     "name": "stdout",
     "output_type": "stream",
     "text": [
      "79\n"
     ]
    },
    {
     "name": "stderr",
     "output_type": "stream",
     "text": [
      "2020-05-22 13:07:43 DESKTOP-OCEF6E1 selenium.webdriver.remote.remote_connection[9272] DEBUG POST http://127.0.0.1:53549/session/ec1f55867f1557c357ff78c2590aad7c/refresh {}\n",
      "2020-05-22 13:07:45 DESKTOP-OCEF6E1 urllib3.connectionpool[9272] DEBUG http://127.0.0.1:53549 \"POST /session/ec1f55867f1557c357ff78c2590aad7c/refresh HTTP/1.1\" 200 14\n",
      "2020-05-22 13:07:45 DESKTOP-OCEF6E1 selenium.webdriver.remote.remote_connection[9272] DEBUG Finished Request\n",
      "2020-05-22 13:08:00 DESKTOP-OCEF6E1 selenium.webdriver.remote.remote_connection[9272] DEBUG GET http://127.0.0.1:53549/session/ec1f55867f1557c357ff78c2590aad7c/source {}\n",
      "2020-05-22 13:08:00 DESKTOP-OCEF6E1 urllib3.connectionpool[9272] DEBUG http://127.0.0.1:53549 \"GET /session/ec1f55867f1557c357ff78c2590aad7c/source HTTP/1.1\" 200 886817\n",
      "2020-05-22 13:08:00 DESKTOP-OCEF6E1 selenium.webdriver.remote.remote_connection[9272] DEBUG Finished Request\n"
     ]
    },
    {
     "name": "stdout",
     "output_type": "stream",
     "text": [
      "1433.2\n",
      "70\n"
     ]
    },
    {
     "name": "stderr",
     "output_type": "stream",
     "text": [
      "2020-05-22 13:08:01 DESKTOP-OCEF6E1 root[9272] INFO model_debug_50: USELESS\n",
      "\n"
     ]
    },
    {
     "name": "stdout",
     "output_type": "stream",
     "text": [
      "80\n"
     ]
    },
    {
     "name": "stderr",
     "output_type": "stream",
     "text": [
      "2020-05-22 13:08:01 DESKTOP-OCEF6E1 selenium.webdriver.remote.remote_connection[9272] DEBUG POST http://127.0.0.1:53549/session/ec1f55867f1557c357ff78c2590aad7c/refresh {}\n",
      "2020-05-22 13:08:03 DESKTOP-OCEF6E1 urllib3.connectionpool[9272] DEBUG http://127.0.0.1:53549 \"POST /session/ec1f55867f1557c357ff78c2590aad7c/refresh HTTP/1.1\" 200 14\n",
      "2020-05-22 13:08:03 DESKTOP-OCEF6E1 selenium.webdriver.remote.remote_connection[9272] DEBUG Finished Request\n",
      "2020-05-22 13:08:18 DESKTOP-OCEF6E1 selenium.webdriver.remote.remote_connection[9272] DEBUG GET http://127.0.0.1:53549/session/ec1f55867f1557c357ff78c2590aad7c/source {}\n",
      "2020-05-22 13:08:18 DESKTOP-OCEF6E1 urllib3.connectionpool[9272] DEBUG http://127.0.0.1:53549 \"GET /session/ec1f55867f1557c357ff78c2590aad7c/source HTTP/1.1\" 200 886992\n",
      "2020-05-22 13:08:18 DESKTOP-OCEF6E1 selenium.webdriver.remote.remote_connection[9272] DEBUG Finished Request\n"
     ]
    },
    {
     "name": "stdout",
     "output_type": "stream",
     "text": [
      "1432.8\n",
      "71\n"
     ]
    },
    {
     "name": "stderr",
     "output_type": "stream",
     "text": [
      "2020-05-22 13:08:19 DESKTOP-OCEF6E1 root[9272] INFO model_debug_50: USELESS\n",
      "\n"
     ]
    },
    {
     "name": "stdout",
     "output_type": "stream",
     "text": [
      "81\n"
     ]
    },
    {
     "name": "stderr",
     "output_type": "stream",
     "text": [
      "2020-05-22 13:08:19 DESKTOP-OCEF6E1 selenium.webdriver.remote.remote_connection[9272] DEBUG POST http://127.0.0.1:53549/session/ec1f55867f1557c357ff78c2590aad7c/refresh {}\n",
      "2020-05-22 13:08:20 DESKTOP-OCEF6E1 urllib3.connectionpool[9272] DEBUG http://127.0.0.1:53549 \"POST /session/ec1f55867f1557c357ff78c2590aad7c/refresh HTTP/1.1\" 200 14\n",
      "2020-05-22 13:08:20 DESKTOP-OCEF6E1 selenium.webdriver.remote.remote_connection[9272] DEBUG Finished Request\n",
      "2020-05-22 13:08:35 DESKTOP-OCEF6E1 selenium.webdriver.remote.remote_connection[9272] DEBUG GET http://127.0.0.1:53549/session/ec1f55867f1557c357ff78c2590aad7c/source {}\n",
      "2020-05-22 13:08:36 DESKTOP-OCEF6E1 urllib3.connectionpool[9272] DEBUG http://127.0.0.1:53549 \"GET /session/ec1f55867f1557c357ff78c2590aad7c/source HTTP/1.1\" 200 886941\n",
      "2020-05-22 13:08:36 DESKTOP-OCEF6E1 selenium.webdriver.remote.remote_connection[9272] DEBUG Finished Request\n"
     ]
    },
    {
     "name": "stdout",
     "output_type": "stream",
     "text": [
      "1432.55\n",
      "72\n"
     ]
    },
    {
     "name": "stderr",
     "output_type": "stream",
     "text": [
      "2020-05-22 13:08:37 DESKTOP-OCEF6E1 root[9272] INFO model_debug_50: USELESS\n",
      "\n"
     ]
    },
    {
     "name": "stdout",
     "output_type": "stream",
     "text": [
      "82\n"
     ]
    },
    {
     "name": "stderr",
     "output_type": "stream",
     "text": [
      "2020-05-22 13:08:37 DESKTOP-OCEF6E1 selenium.webdriver.remote.remote_connection[9272] DEBUG POST http://127.0.0.1:53549/session/ec1f55867f1557c357ff78c2590aad7c/refresh {}\n",
      "2020-05-22 13:08:38 DESKTOP-OCEF6E1 urllib3.connectionpool[9272] DEBUG http://127.0.0.1:53549 \"POST /session/ec1f55867f1557c357ff78c2590aad7c/refresh HTTP/1.1\" 200 14\n",
      "2020-05-22 13:08:38 DESKTOP-OCEF6E1 selenium.webdriver.remote.remote_connection[9272] DEBUG Finished Request\n",
      "2020-05-22 13:08:53 DESKTOP-OCEF6E1 selenium.webdriver.remote.remote_connection[9272] DEBUG GET http://127.0.0.1:53549/session/ec1f55867f1557c357ff78c2590aad7c/source {}\n",
      "2020-05-22 13:08:54 DESKTOP-OCEF6E1 urllib3.connectionpool[9272] DEBUG http://127.0.0.1:53549 \"GET /session/ec1f55867f1557c357ff78c2590aad7c/source HTTP/1.1\" 200 886942\n",
      "2020-05-22 13:08:54 DESKTOP-OCEF6E1 selenium.webdriver.remote.remote_connection[9272] DEBUG Finished Request\n"
     ]
    },
    {
     "name": "stdout",
     "output_type": "stream",
     "text": [
      "1432.55\n",
      "73\n"
     ]
    },
    {
     "name": "stderr",
     "output_type": "stream",
     "text": [
      "2020-05-22 13:08:55 DESKTOP-OCEF6E1 root[9272] INFO model_debug_50: USELESS\n",
      "\n"
     ]
    },
    {
     "name": "stdout",
     "output_type": "stream",
     "text": [
      "83\n"
     ]
    },
    {
     "name": "stderr",
     "output_type": "stream",
     "text": [
      "2020-05-22 13:08:55 DESKTOP-OCEF6E1 selenium.webdriver.remote.remote_connection[9272] DEBUG POST http://127.0.0.1:53549/session/ec1f55867f1557c357ff78c2590aad7c/refresh {}\n",
      "2020-05-22 13:08:57 DESKTOP-OCEF6E1 urllib3.connectionpool[9272] DEBUG http://127.0.0.1:53549 \"POST /session/ec1f55867f1557c357ff78c2590aad7c/refresh HTTP/1.1\" 200 14\n",
      "2020-05-22 13:08:57 DESKTOP-OCEF6E1 selenium.webdriver.remote.remote_connection[9272] DEBUG Finished Request\n",
      "2020-05-22 13:09:12 DESKTOP-OCEF6E1 selenium.webdriver.remote.remote_connection[9272] DEBUG GET http://127.0.0.1:53549/session/ec1f55867f1557c357ff78c2590aad7c/source {}\n",
      "2020-05-22 13:09:12 DESKTOP-OCEF6E1 urllib3.connectionpool[9272] DEBUG http://127.0.0.1:53549 \"GET /session/ec1f55867f1557c357ff78c2590aad7c/source HTTP/1.1\" 200 886962\n",
      "2020-05-22 13:09:12 DESKTOP-OCEF6E1 selenium.webdriver.remote.remote_connection[9272] DEBUG Finished Request\n"
     ]
    },
    {
     "name": "stdout",
     "output_type": "stream",
     "text": [
      "1431.7\n",
      "74\n"
     ]
    },
    {
     "name": "stderr",
     "output_type": "stream",
     "text": [
      "2020-05-22 13:09:13 DESKTOP-OCEF6E1 root[9272] INFO model_debug_50: USELESS\n",
      "\n"
     ]
    },
    {
     "name": "stdout",
     "output_type": "stream",
     "text": [
      "84\n"
     ]
    },
    {
     "name": "stderr",
     "output_type": "stream",
     "text": [
      "2020-05-22 13:09:13 DESKTOP-OCEF6E1 selenium.webdriver.remote.remote_connection[9272] DEBUG POST http://127.0.0.1:53549/session/ec1f55867f1557c357ff78c2590aad7c/refresh {}\n",
      "2020-05-22 13:09:16 DESKTOP-OCEF6E1 urllib3.connectionpool[9272] DEBUG http://127.0.0.1:53549 \"POST /session/ec1f55867f1557c357ff78c2590aad7c/refresh HTTP/1.1\" 200 14\n",
      "2020-05-22 13:09:16 DESKTOP-OCEF6E1 selenium.webdriver.remote.remote_connection[9272] DEBUG Finished Request\n",
      "2020-05-22 13:09:31 DESKTOP-OCEF6E1 selenium.webdriver.remote.remote_connection[9272] DEBUG GET http://127.0.0.1:53549/session/ec1f55867f1557c357ff78c2590aad7c/source {}\n",
      "2020-05-22 13:09:31 DESKTOP-OCEF6E1 urllib3.connectionpool[9272] DEBUG http://127.0.0.1:53549 \"GET /session/ec1f55867f1557c357ff78c2590aad7c/source HTTP/1.1\" 200 885779\n",
      "2020-05-22 13:09:31 DESKTOP-OCEF6E1 selenium.webdriver.remote.remote_connection[9272] DEBUG Finished Request\n"
     ]
    },
    {
     "name": "stdout",
     "output_type": "stream",
     "text": [
      "1431.5\n",
      "75\n"
     ]
    },
    {
     "name": "stderr",
     "output_type": "stream",
     "text": [
      "2020-05-22 13:09:32 DESKTOP-OCEF6E1 root[9272] INFO model_debug_50: USELESS\n",
      "\n"
     ]
    },
    {
     "name": "stdout",
     "output_type": "stream",
     "text": [
      "85\n"
     ]
    },
    {
     "name": "stderr",
     "output_type": "stream",
     "text": [
      "2020-05-22 13:09:32 DESKTOP-OCEF6E1 selenium.webdriver.remote.remote_connection[9272] DEBUG POST http://127.0.0.1:53549/session/ec1f55867f1557c357ff78c2590aad7c/refresh {}\n",
      "2020-05-22 13:09:34 DESKTOP-OCEF6E1 urllib3.connectionpool[9272] DEBUG http://127.0.0.1:53549 \"POST /session/ec1f55867f1557c357ff78c2590aad7c/refresh HTTP/1.1\" 200 14\n",
      "2020-05-22 13:09:34 DESKTOP-OCEF6E1 selenium.webdriver.remote.remote_connection[9272] DEBUG Finished Request\n",
      "2020-05-22 13:09:49 DESKTOP-OCEF6E1 selenium.webdriver.remote.remote_connection[9272] DEBUG GET http://127.0.0.1:53549/session/ec1f55867f1557c357ff78c2590aad7c/source {}\n",
      "2020-05-22 13:09:49 DESKTOP-OCEF6E1 urllib3.connectionpool[9272] DEBUG http://127.0.0.1:53549 \"GET /session/ec1f55867f1557c357ff78c2590aad7c/source HTTP/1.1\" 200 886961\n",
      "2020-05-22 13:09:49 DESKTOP-OCEF6E1 selenium.webdriver.remote.remote_connection[9272] DEBUG Finished Request\n"
     ]
    },
    {
     "name": "stdout",
     "output_type": "stream",
     "text": [
      "1432.3\n",
      "76\n"
     ]
    },
    {
     "name": "stderr",
     "output_type": "stream",
     "text": [
      "2020-05-22 13:09:50 DESKTOP-OCEF6E1 root[9272] INFO model_debug_50: USELESS\n",
      "\n"
     ]
    },
    {
     "name": "stdout",
     "output_type": "stream",
     "text": [
      "86\n"
     ]
    },
    {
     "name": "stderr",
     "output_type": "stream",
     "text": [
      "2020-05-22 13:09:50 DESKTOP-OCEF6E1 selenium.webdriver.remote.remote_connection[9272] DEBUG POST http://127.0.0.1:53549/session/ec1f55867f1557c357ff78c2590aad7c/refresh {}\n",
      "2020-05-22 13:09:52 DESKTOP-OCEF6E1 urllib3.connectionpool[9272] DEBUG http://127.0.0.1:53549 \"POST /session/ec1f55867f1557c357ff78c2590aad7c/refresh HTTP/1.1\" 200 14\n",
      "2020-05-22 13:09:52 DESKTOP-OCEF6E1 selenium.webdriver.remote.remote_connection[9272] DEBUG Finished Request\n",
      "2020-05-22 13:10:07 DESKTOP-OCEF6E1 selenium.webdriver.remote.remote_connection[9272] DEBUG GET http://127.0.0.1:53549/session/ec1f55867f1557c357ff78c2590aad7c/source {}\n",
      "2020-05-22 13:10:07 DESKTOP-OCEF6E1 urllib3.connectionpool[9272] DEBUG http://127.0.0.1:53549 \"GET /session/ec1f55867f1557c357ff78c2590aad7c/source HTTP/1.1\" 200 886982\n",
      "2020-05-22 13:10:07 DESKTOP-OCEF6E1 selenium.webdriver.remote.remote_connection[9272] DEBUG Finished Request\n"
     ]
    },
    {
     "name": "stdout",
     "output_type": "stream",
     "text": [
      "1432.75\n",
      "77\n"
     ]
    },
    {
     "name": "stderr",
     "output_type": "stream",
     "text": [
      "2020-05-22 13:10:09 DESKTOP-OCEF6E1 root[9272] INFO model_debug_50: USELESS\n",
      "\n"
     ]
    },
    {
     "name": "stdout",
     "output_type": "stream",
     "text": [
      "87\n"
     ]
    },
    {
     "name": "stderr",
     "output_type": "stream",
     "text": [
      "2020-05-22 13:10:09 DESKTOP-OCEF6E1 selenium.webdriver.remote.remote_connection[9272] DEBUG POST http://127.0.0.1:53549/session/ec1f55867f1557c357ff78c2590aad7c/refresh {}\n",
      "2020-05-22 13:10:11 DESKTOP-OCEF6E1 urllib3.connectionpool[9272] DEBUG http://127.0.0.1:53549 \"POST /session/ec1f55867f1557c357ff78c2590aad7c/refresh HTTP/1.1\" 200 14\n",
      "2020-05-22 13:10:11 DESKTOP-OCEF6E1 selenium.webdriver.remote.remote_connection[9272] DEBUG Finished Request\n",
      "2020-05-22 13:10:26 DESKTOP-OCEF6E1 selenium.webdriver.remote.remote_connection[9272] DEBUG GET http://127.0.0.1:53549/session/ec1f55867f1557c357ff78c2590aad7c/source {}\n",
      "2020-05-22 13:10:26 DESKTOP-OCEF6E1 urllib3.connectionpool[9272] DEBUG http://127.0.0.1:53549 \"GET /session/ec1f55867f1557c357ff78c2590aad7c/source HTTP/1.1\" 200 887091\n",
      "2020-05-22 13:10:26 DESKTOP-OCEF6E1 selenium.webdriver.remote.remote_connection[9272] DEBUG Finished Request\n"
     ]
    },
    {
     "name": "stdout",
     "output_type": "stream",
     "text": [
      "1433.2\n",
      "78\n"
     ]
    },
    {
     "name": "stderr",
     "output_type": "stream",
     "text": [
      "2020-05-22 13:10:27 DESKTOP-OCEF6E1 root[9272] INFO model_debug_50: USELESS\n",
      "\n"
     ]
    },
    {
     "name": "stdout",
     "output_type": "stream",
     "text": [
      "88\n"
     ]
    },
    {
     "name": "stderr",
     "output_type": "stream",
     "text": [
      "2020-05-22 13:10:27 DESKTOP-OCEF6E1 selenium.webdriver.remote.remote_connection[9272] DEBUG POST http://127.0.0.1:53549/session/ec1f55867f1557c357ff78c2590aad7c/refresh {}\n",
      "2020-05-22 13:10:29 DESKTOP-OCEF6E1 urllib3.connectionpool[9272] DEBUG http://127.0.0.1:53549 \"POST /session/ec1f55867f1557c357ff78c2590aad7c/refresh HTTP/1.1\" 200 14\n",
      "2020-05-22 13:10:29 DESKTOP-OCEF6E1 selenium.webdriver.remote.remote_connection[9272] DEBUG Finished Request\n",
      "2020-05-22 13:10:44 DESKTOP-OCEF6E1 selenium.webdriver.remote.remote_connection[9272] DEBUG GET http://127.0.0.1:53549/session/ec1f55867f1557c357ff78c2590aad7c/source {}\n",
      "2020-05-22 13:10:44 DESKTOP-OCEF6E1 urllib3.connectionpool[9272] DEBUG http://127.0.0.1:53549 \"GET /session/ec1f55867f1557c357ff78c2590aad7c/source HTTP/1.1\" 200 887172\n",
      "2020-05-22 13:10:44 DESKTOP-OCEF6E1 selenium.webdriver.remote.remote_connection[9272] DEBUG Finished Request\n"
     ]
    },
    {
     "name": "stdout",
     "output_type": "stream",
     "text": [
      "1434.2\n",
      "79\n"
     ]
    },
    {
     "name": "stderr",
     "output_type": "stream",
     "text": [
      "2020-05-22 13:10:45 DESKTOP-OCEF6E1 root[9272] INFO model_debug_50: USELESS\n",
      "\n"
     ]
    },
    {
     "name": "stdout",
     "output_type": "stream",
     "text": [
      "89\n"
     ]
    },
    {
     "name": "stderr",
     "output_type": "stream",
     "text": [
      "2020-05-22 13:10:45 DESKTOP-OCEF6E1 selenium.webdriver.remote.remote_connection[9272] DEBUG POST http://127.0.0.1:53549/session/ec1f55867f1557c357ff78c2590aad7c/refresh {}\n",
      "2020-05-22 13:10:47 DESKTOP-OCEF6E1 urllib3.connectionpool[9272] DEBUG http://127.0.0.1:53549 \"POST /session/ec1f55867f1557c357ff78c2590aad7c/refresh HTTP/1.1\" 200 14\n",
      "2020-05-22 13:10:47 DESKTOP-OCEF6E1 selenium.webdriver.remote.remote_connection[9272] DEBUG Finished Request\n",
      "2020-05-22 13:11:02 DESKTOP-OCEF6E1 selenium.webdriver.remote.remote_connection[9272] DEBUG GET http://127.0.0.1:53549/session/ec1f55867f1557c357ff78c2590aad7c/source {}\n",
      "2020-05-22 13:11:02 DESKTOP-OCEF6E1 urllib3.connectionpool[9272] DEBUG http://127.0.0.1:53549 \"GET /session/ec1f55867f1557c357ff78c2590aad7c/source HTTP/1.1\" 200 886962\n",
      "2020-05-22 13:11:02 DESKTOP-OCEF6E1 selenium.webdriver.remote.remote_connection[9272] DEBUG Finished Request\n"
     ]
    },
    {
     "name": "stdout",
     "output_type": "stream",
     "text": [
      "1433.7\n",
      "80\n"
     ]
    },
    {
     "name": "stderr",
     "output_type": "stream",
     "text": [
      "2020-05-22 13:11:04 DESKTOP-OCEF6E1 root[9272] INFO model_debug_50: USELESS\n",
      "\n"
     ]
    },
    {
     "name": "stdout",
     "output_type": "stream",
     "text": [
      "90\n"
     ]
    },
    {
     "name": "stderr",
     "output_type": "stream",
     "text": [
      "2020-05-22 13:11:04 DESKTOP-OCEF6E1 selenium.webdriver.remote.remote_connection[9272] DEBUG POST http://127.0.0.1:53549/session/ec1f55867f1557c357ff78c2590aad7c/refresh {}\n",
      "2020-05-22 13:11:05 DESKTOP-OCEF6E1 urllib3.connectionpool[9272] DEBUG http://127.0.0.1:53549 \"POST /session/ec1f55867f1557c357ff78c2590aad7c/refresh HTTP/1.1\" 200 14\n",
      "2020-05-22 13:11:05 DESKTOP-OCEF6E1 selenium.webdriver.remote.remote_connection[9272] DEBUG Finished Request\n",
      "2020-05-22 13:11:20 DESKTOP-OCEF6E1 selenium.webdriver.remote.remote_connection[9272] DEBUG GET http://127.0.0.1:53549/session/ec1f55867f1557c357ff78c2590aad7c/source {}\n",
      "2020-05-22 13:11:21 DESKTOP-OCEF6E1 urllib3.connectionpool[9272] DEBUG http://127.0.0.1:53549 \"GET /session/ec1f55867f1557c357ff78c2590aad7c/source HTTP/1.1\" 200 887033\n",
      "2020-05-22 13:11:21 DESKTOP-OCEF6E1 selenium.webdriver.remote.remote_connection[9272] DEBUG Finished Request\n"
     ]
    },
    {
     "name": "stdout",
     "output_type": "stream",
     "text": [
      "1433.7\n",
      "81\n"
     ]
    },
    {
     "name": "stderr",
     "output_type": "stream",
     "text": [
      "2020-05-22 13:11:21 DESKTOP-OCEF6E1 root[9272] INFO model_debug_50: USELESS\n",
      "\n"
     ]
    },
    {
     "name": "stdout",
     "output_type": "stream",
     "text": [
      "91\n"
     ]
    },
    {
     "name": "stderr",
     "output_type": "stream",
     "text": [
      "2020-05-22 13:11:22 DESKTOP-OCEF6E1 selenium.webdriver.remote.remote_connection[9272] DEBUG POST http://127.0.0.1:53549/session/ec1f55867f1557c357ff78c2590aad7c/refresh {}\n",
      "2020-05-22 13:11:23 DESKTOP-OCEF6E1 urllib3.connectionpool[9272] DEBUG http://127.0.0.1:53549 \"POST /session/ec1f55867f1557c357ff78c2590aad7c/refresh HTTP/1.1\" 200 14\n",
      "2020-05-22 13:11:23 DESKTOP-OCEF6E1 selenium.webdriver.remote.remote_connection[9272] DEBUG Finished Request\n",
      "2020-05-22 13:11:38 DESKTOP-OCEF6E1 selenium.webdriver.remote.remote_connection[9272] DEBUG GET http://127.0.0.1:53549/session/ec1f55867f1557c357ff78c2590aad7c/source {}\n",
      "2020-05-22 13:11:38 DESKTOP-OCEF6E1 urllib3.connectionpool[9272] DEBUG http://127.0.0.1:53549 \"GET /session/ec1f55867f1557c357ff78c2590aad7c/source HTTP/1.1\" 200 886895\n",
      "2020-05-22 13:11:38 DESKTOP-OCEF6E1 selenium.webdriver.remote.remote_connection[9272] DEBUG Finished Request\n"
     ]
    },
    {
     "name": "stdout",
     "output_type": "stream",
     "text": [
      "1433.3\n",
      "82\n"
     ]
    },
    {
     "name": "stderr",
     "output_type": "stream",
     "text": [
      "2020-05-22 13:11:39 DESKTOP-OCEF6E1 root[9272] INFO model_debug_50: USELESS\n",
      "\n"
     ]
    },
    {
     "name": "stdout",
     "output_type": "stream",
     "text": [
      "92\n"
     ]
    },
    {
     "name": "stderr",
     "output_type": "stream",
     "text": [
      "2020-05-22 13:11:39 DESKTOP-OCEF6E1 selenium.webdriver.remote.remote_connection[9272] DEBUG POST http://127.0.0.1:53549/session/ec1f55867f1557c357ff78c2590aad7c/refresh {}\n",
      "2020-05-22 13:11:40 DESKTOP-OCEF6E1 urllib3.connectionpool[9272] DEBUG http://127.0.0.1:53549 \"POST /session/ec1f55867f1557c357ff78c2590aad7c/refresh HTTP/1.1\" 200 14\n",
      "2020-05-22 13:11:40 DESKTOP-OCEF6E1 selenium.webdriver.remote.remote_connection[9272] DEBUG Finished Request\n",
      "2020-05-22 13:11:55 DESKTOP-OCEF6E1 selenium.webdriver.remote.remote_connection[9272] DEBUG GET http://127.0.0.1:53549/session/ec1f55867f1557c357ff78c2590aad7c/source {}\n",
      "2020-05-22 13:11:55 DESKTOP-OCEF6E1 urllib3.connectionpool[9272] DEBUG http://127.0.0.1:53549 \"GET /session/ec1f55867f1557c357ff78c2590aad7c/source HTTP/1.1\" 200 887831\n",
      "2020-05-22 13:11:55 DESKTOP-OCEF6E1 selenium.webdriver.remote.remote_connection[9272] DEBUG Finished Request\n"
     ]
    },
    {
     "name": "stdout",
     "output_type": "stream",
     "text": [
      "1433.5\n",
      "83\n"
     ]
    },
    {
     "name": "stderr",
     "output_type": "stream",
     "text": [
      "2020-05-22 13:11:57 DESKTOP-OCEF6E1 root[9272] INFO model_debug_50: USELESS\n",
      "\n"
     ]
    },
    {
     "name": "stdout",
     "output_type": "stream",
     "text": [
      "93\n"
     ]
    },
    {
     "name": "stderr",
     "output_type": "stream",
     "text": [
      "2020-05-22 13:11:57 DESKTOP-OCEF6E1 selenium.webdriver.remote.remote_connection[9272] DEBUG POST http://127.0.0.1:53549/session/ec1f55867f1557c357ff78c2590aad7c/refresh {}\n",
      "2020-05-22 13:11:58 DESKTOP-OCEF6E1 urllib3.connectionpool[9272] DEBUG http://127.0.0.1:53549 \"POST /session/ec1f55867f1557c357ff78c2590aad7c/refresh HTTP/1.1\" 200 14\n",
      "2020-05-22 13:11:58 DESKTOP-OCEF6E1 selenium.webdriver.remote.remote_connection[9272] DEBUG Finished Request\n",
      "2020-05-22 13:12:13 DESKTOP-OCEF6E1 selenium.webdriver.remote.remote_connection[9272] DEBUG GET http://127.0.0.1:53549/session/ec1f55867f1557c357ff78c2590aad7c/source {}\n",
      "2020-05-22 13:12:13 DESKTOP-OCEF6E1 urllib3.connectionpool[9272] DEBUG http://127.0.0.1:53549 \"GET /session/ec1f55867f1557c357ff78c2590aad7c/source HTTP/1.1\" 200 884938\n",
      "2020-05-22 13:12:13 DESKTOP-OCEF6E1 selenium.webdriver.remote.remote_connection[9272] DEBUG Finished Request\n"
     ]
    },
    {
     "name": "stdout",
     "output_type": "stream",
     "text": [
      "1433.75\n",
      "84\n"
     ]
    },
    {
     "name": "stderr",
     "output_type": "stream",
     "text": [
      "2020-05-22 13:12:14 DESKTOP-OCEF6E1 root[9272] INFO model_debug_50: USELESS\n",
      "\n"
     ]
    },
    {
     "name": "stdout",
     "output_type": "stream",
     "text": [
      "94\n"
     ]
    },
    {
     "name": "stderr",
     "output_type": "stream",
     "text": [
      "2020-05-22 13:12:14 DESKTOP-OCEF6E1 selenium.webdriver.remote.remote_connection[9272] DEBUG POST http://127.0.0.1:53549/session/ec1f55867f1557c357ff78c2590aad7c/refresh {}\n",
      "2020-05-22 13:12:16 DESKTOP-OCEF6E1 urllib3.connectionpool[9272] DEBUG http://127.0.0.1:53549 \"POST /session/ec1f55867f1557c357ff78c2590aad7c/refresh HTTP/1.1\" 200 14\n",
      "2020-05-22 13:12:16 DESKTOP-OCEF6E1 selenium.webdriver.remote.remote_connection[9272] DEBUG Finished Request\n",
      "2020-05-22 13:12:31 DESKTOP-OCEF6E1 selenium.webdriver.remote.remote_connection[9272] DEBUG GET http://127.0.0.1:53549/session/ec1f55867f1557c357ff78c2590aad7c/source {}\n",
      "2020-05-22 13:12:31 DESKTOP-OCEF6E1 urllib3.connectionpool[9272] DEBUG http://127.0.0.1:53549 \"GET /session/ec1f55867f1557c357ff78c2590aad7c/source HTTP/1.1\" 200 884702\n",
      "2020-05-22 13:12:31 DESKTOP-OCEF6E1 selenium.webdriver.remote.remote_connection[9272] DEBUG Finished Request\n"
     ]
    },
    {
     "name": "stdout",
     "output_type": "stream",
     "text": [
      "1433.65\n",
      "85\n"
     ]
    },
    {
     "name": "stderr",
     "output_type": "stream",
     "text": [
      "2020-05-22 13:12:33 DESKTOP-OCEF6E1 root[9272] INFO model_debug_50: USELESS\n",
      "\n"
     ]
    },
    {
     "name": "stdout",
     "output_type": "stream",
     "text": [
      "95\n"
     ]
    },
    {
     "name": "stderr",
     "output_type": "stream",
     "text": [
      "2020-05-22 13:12:33 DESKTOP-OCEF6E1 selenium.webdriver.remote.remote_connection[9272] DEBUG POST http://127.0.0.1:53549/session/ec1f55867f1557c357ff78c2590aad7c/refresh {}\n",
      "2020-05-22 13:12:34 DESKTOP-OCEF6E1 urllib3.connectionpool[9272] DEBUG http://127.0.0.1:53549 \"POST /session/ec1f55867f1557c357ff78c2590aad7c/refresh HTTP/1.1\" 200 14\n",
      "2020-05-22 13:12:34 DESKTOP-OCEF6E1 selenium.webdriver.remote.remote_connection[9272] DEBUG Finished Request\n",
      "2020-05-22 13:12:49 DESKTOP-OCEF6E1 selenium.webdriver.remote.remote_connection[9272] DEBUG GET http://127.0.0.1:53549/session/ec1f55867f1557c357ff78c2590aad7c/source {}\n",
      "2020-05-22 13:12:49 DESKTOP-OCEF6E1 urllib3.connectionpool[9272] DEBUG http://127.0.0.1:53549 \"GET /session/ec1f55867f1557c357ff78c2590aad7c/source HTTP/1.1\" 200 884736\n",
      "2020-05-22 13:12:49 DESKTOP-OCEF6E1 selenium.webdriver.remote.remote_connection[9272] DEBUG Finished Request\n"
     ]
    },
    {
     "name": "stdout",
     "output_type": "stream",
     "text": [
      "1433.7\n",
      "86\n"
     ]
    },
    {
     "name": "stderr",
     "output_type": "stream",
     "text": [
      "2020-05-22 13:12:51 DESKTOP-OCEF6E1 root[9272] INFO model_debug_50: USELESS\n",
      "\n"
     ]
    },
    {
     "name": "stdout",
     "output_type": "stream",
     "text": [
      "96\n"
     ]
    },
    {
     "name": "stderr",
     "output_type": "stream",
     "text": [
      "2020-05-22 13:12:51 DESKTOP-OCEF6E1 selenium.webdriver.remote.remote_connection[9272] DEBUG POST http://127.0.0.1:53549/session/ec1f55867f1557c357ff78c2590aad7c/refresh {}\n",
      "2020-05-22 13:12:52 DESKTOP-OCEF6E1 urllib3.connectionpool[9272] DEBUG http://127.0.0.1:53549 \"POST /session/ec1f55867f1557c357ff78c2590aad7c/refresh HTTP/1.1\" 200 14\n",
      "2020-05-22 13:12:52 DESKTOP-OCEF6E1 selenium.webdriver.remote.remote_connection[9272] DEBUG Finished Request\n",
      "2020-05-22 13:13:07 DESKTOP-OCEF6E1 selenium.webdriver.remote.remote_connection[9272] DEBUG GET http://127.0.0.1:53549/session/ec1f55867f1557c357ff78c2590aad7c/source {}\n",
      "2020-05-22 13:13:07 DESKTOP-OCEF6E1 urllib3.connectionpool[9272] DEBUG http://127.0.0.1:53549 \"GET /session/ec1f55867f1557c357ff78c2590aad7c/source HTTP/1.1\" 200 884970\n",
      "2020-05-22 13:13:07 DESKTOP-OCEF6E1 selenium.webdriver.remote.remote_connection[9272] DEBUG Finished Request\n"
     ]
    },
    {
     "name": "stdout",
     "output_type": "stream",
     "text": [
      "1433.5\n",
      "87\n"
     ]
    },
    {
     "name": "stderr",
     "output_type": "stream",
     "text": [
      "2020-05-22 13:13:09 DESKTOP-OCEF6E1 root[9272] INFO model_debug_50: USELESS\n",
      "\n"
     ]
    },
    {
     "name": "stdout",
     "output_type": "stream",
     "text": [
      "97\n"
     ]
    },
    {
     "name": "stderr",
     "output_type": "stream",
     "text": [
      "2020-05-22 13:13:09 DESKTOP-OCEF6E1 selenium.webdriver.remote.remote_connection[9272] DEBUG POST http://127.0.0.1:53549/session/ec1f55867f1557c357ff78c2590aad7c/refresh {}\n",
      "2020-05-22 13:13:10 DESKTOP-OCEF6E1 urllib3.connectionpool[9272] DEBUG http://127.0.0.1:53549 \"POST /session/ec1f55867f1557c357ff78c2590aad7c/refresh HTTP/1.1\" 200 14\n",
      "2020-05-22 13:13:10 DESKTOP-OCEF6E1 selenium.webdriver.remote.remote_connection[9272] DEBUG Finished Request\n",
      "2020-05-22 13:13:25 DESKTOP-OCEF6E1 selenium.webdriver.remote.remote_connection[9272] DEBUG GET http://127.0.0.1:53549/session/ec1f55867f1557c357ff78c2590aad7c/source {}\n",
      "2020-05-22 13:13:25 DESKTOP-OCEF6E1 urllib3.connectionpool[9272] DEBUG http://127.0.0.1:53549 \"GET /session/ec1f55867f1557c357ff78c2590aad7c/source HTTP/1.1\" 200 887005\n",
      "2020-05-22 13:13:26 DESKTOP-OCEF6E1 selenium.webdriver.remote.remote_connection[9272] DEBUG Finished Request\n"
     ]
    },
    {
     "name": "stdout",
     "output_type": "stream",
     "text": [
      "1433.0\n",
      "88\n"
     ]
    },
    {
     "name": "stderr",
     "output_type": "stream",
     "text": [
      "2020-05-22 13:13:27 DESKTOP-OCEF6E1 root[9272] INFO model_debug_50: USELESS\n",
      "\n"
     ]
    },
    {
     "name": "stdout",
     "output_type": "stream",
     "text": [
      "98\n"
     ]
    },
    {
     "name": "stderr",
     "output_type": "stream",
     "text": [
      "2020-05-22 13:13:27 DESKTOP-OCEF6E1 selenium.webdriver.remote.remote_connection[9272] DEBUG POST http://127.0.0.1:53549/session/ec1f55867f1557c357ff78c2590aad7c/refresh {}\n",
      "2020-05-22 13:13:28 DESKTOP-OCEF6E1 urllib3.connectionpool[9272] DEBUG http://127.0.0.1:53549 \"POST /session/ec1f55867f1557c357ff78c2590aad7c/refresh HTTP/1.1\" 200 14\n",
      "2020-05-22 13:13:28 DESKTOP-OCEF6E1 selenium.webdriver.remote.remote_connection[9272] DEBUG Finished Request\n",
      "2020-05-22 13:13:43 DESKTOP-OCEF6E1 selenium.webdriver.remote.remote_connection[9272] DEBUG GET http://127.0.0.1:53549/session/ec1f55867f1557c357ff78c2590aad7c/source {}\n",
      "2020-05-22 13:13:44 DESKTOP-OCEF6E1 urllib3.connectionpool[9272] DEBUG http://127.0.0.1:53549 \"GET /session/ec1f55867f1557c357ff78c2590aad7c/source HTTP/1.1\" 200 884711\n",
      "2020-05-22 13:13:44 DESKTOP-OCEF6E1 selenium.webdriver.remote.remote_connection[9272] DEBUG Finished Request\n"
     ]
    },
    {
     "name": "stdout",
     "output_type": "stream",
     "text": [
      "1432.95\n",
      "89\n"
     ]
    },
    {
     "name": "stderr",
     "output_type": "stream",
     "text": [
      "2020-05-22 13:13:45 DESKTOP-OCEF6E1 root[9272] INFO model_debug_50: USELESS\n",
      "\n"
     ]
    },
    {
     "name": "stdout",
     "output_type": "stream",
     "text": [
      "99\n"
     ]
    },
    {
     "name": "stderr",
     "output_type": "stream",
     "text": [
      "2020-05-22 13:13:45 DESKTOP-OCEF6E1 selenium.webdriver.remote.remote_connection[9272] DEBUG POST http://127.0.0.1:53549/session/ec1f55867f1557c357ff78c2590aad7c/refresh {}\n",
      "2020-05-22 13:13:46 DESKTOP-OCEF6E1 urllib3.connectionpool[9272] DEBUG http://127.0.0.1:53549 \"POST /session/ec1f55867f1557c357ff78c2590aad7c/refresh HTTP/1.1\" 200 14\n",
      "2020-05-22 13:13:46 DESKTOP-OCEF6E1 selenium.webdriver.remote.remote_connection[9272] DEBUG Finished Request\n",
      "2020-05-22 13:14:01 DESKTOP-OCEF6E1 selenium.webdriver.remote.remote_connection[9272] DEBUG GET http://127.0.0.1:53549/session/ec1f55867f1557c357ff78c2590aad7c/source {}\n",
      "2020-05-22 13:14:01 DESKTOP-OCEF6E1 urllib3.connectionpool[9272] DEBUG http://127.0.0.1:53549 \"GET /session/ec1f55867f1557c357ff78c2590aad7c/source HTTP/1.1\" 200 884803\n",
      "2020-05-22 13:14:01 DESKTOP-OCEF6E1 selenium.webdriver.remote.remote_connection[9272] DEBUG Finished Request\n"
     ]
    },
    {
     "name": "stdout",
     "output_type": "stream",
     "text": [
      "1432.05\n",
      "90\n"
     ]
    },
    {
     "name": "stderr",
     "output_type": "stream",
     "text": [
      "2020-05-22 13:14:02 DESKTOP-OCEF6E1 root[9272] INFO model_debug_50: USELESS\n",
      "\n"
     ]
    }
   ],
   "source": [
    "coloredlogs.install(level=\"DEBUG\")\n",
    "switch_k_backend_device()\n",
    "#Company Name\n",
    "company = \"RELIANCE\"\n",
    "data = main(company)"
   ]
  },
  {
   "cell_type": "markdown",
   "metadata": {},
   "source": [
    "### 6. Plotting the data"
   ]
  },
  {
   "cell_type": "code",
   "execution_count": 92,
   "metadata": {},
   "outputs": [],
   "source": [
    "import pandas as pd\n",
    "import matplotlib.pyplot as plt"
   ]
  },
  {
   "cell_type": "code",
   "execution_count": 93,
   "metadata": {},
   "outputs": [
    {
     "name": "stderr",
     "output_type": "stream",
     "text": [
      "2020-05-22 13:16:33 DESKTOP-OCEF6E1 matplotlib.axes._base[9272] DEBUG update_title_pos\n",
      "2020-05-22 13:16:33 DESKTOP-OCEF6E1 matplotlib.axes._base[9272] DEBUG update_title_pos\n",
      "2020-05-22 13:16:33 DESKTOP-OCEF6E1 matplotlib.axes._base[9272] DEBUG update_title_pos\n",
      "2020-05-22 13:16:33 DESKTOP-OCEF6E1 matplotlib.axes._base[9272] DEBUG update_title_pos\n"
     ]
    },
    {
     "data": {
      "image/png": "[encoded data removed]",
      "text/plain": [
       "<Figure size 720x360 with 1 Axes>"
      ]
     },
     "metadata": {
      "needs_background": "light"
     },
     "output_type": "display_data"
    }
   ],
   "source": [
    "y1 = [x[0] for x in data if x[1] == \"BUY\"]\n",
    "y2 = [x[0] for x in data if x[1] == \"SELL\"]\n",
    "t1 = [x[2] for x in data if x[1] == \"BUY\"]\n",
    "t2 = [x[2] for x in data if x[1] == \"SELL\"]\n",
    "fig = plt.figure(figsize=(10,5))\n",
    "ax = fig.add_axes([0,0,1,1])\n",
    "ax.grid(True)\n",
    "l1 = ax.plot(t1,y1,'yo-')\n",
    "l2 = ax.plot(t2,y2,'go-')\n",
    "ax.legend(labels = ('BUY', 'SELL'), loc = 'upper right')\n",
    "ax.set_title(\"Predicted values in Stock market\")\n",
    "ax.set_xlabel('TIME')\n",
    "ax.set_ylabel('VALUES')\n",
    "plt.show()"
   ]
  },
  {
   "cell_type": "code",
   "execution_count": null,
   "metadata": {},
   "outputs": [],
   "source": []
  }
 ],
 "metadata": {
  "kernelspec": {
   "display_name": "Python 3",
   "language": "python",
   "name": "python3"
  },
  "language_info": {
   "codemirror_mode": {
    "name": "ipython",
    "version": 3
   },
   "file_extension": ".py",
   "mimetype": "text/x-python",
   "name": "python",
   "nbconvert_exporter": "python",
   "pygments_lexer": "ipython3",
   "version": "3.7.3"
  }
 },
 "nbformat": 4,
 "nbformat_minor": 2
}
